{
 "cells": [
  {
   "cell_type": "markdown",
   "metadata": {},
   "source": [
    "# Bike Sharing Classification"
   ]
  },
  {
   "cell_type": "code",
   "execution_count": 1,
   "metadata": {
    "scrolled": true
   },
   "outputs": [],
   "source": [
    "import random\n",
    "import pandas as pd\n",
    "import numpy as np\n",
    "import matplotlib.pyplot as plt\n",
    "import seaborn as sns\n",
    "from sklearn.model_selection import GridSearchCV\n",
    "from sklearn.metrics import accuracy_score, confusion_matrix, plot_roc_curve\n",
    "from sklearn.neighbors import KNeighborsClassifier\n",
    "from keras.models import Sequential\n",
    "from keras.layers import Dense, Input, Dropout\n",
    "from keras.wrappers.scikit_learn import KerasClassifier\n",
    "from keras.optimizers import SGD\n",
    "from keras.constraints import maxnorm"
   ]
  },
  {
   "cell_type": "markdown",
   "metadata": {},
   "source": [
    "### Preprocessing"
   ]
  },
  {
   "cell_type": "code",
   "execution_count": 2,
   "metadata": {
    "scrolled": true
   },
   "outputs": [
    {
     "data": {
      "text/html": [
       "<div>\n",
       "<style scoped>\n",
       "    .dataframe tbody tr th:only-of-type {\n",
       "        vertical-align: middle;\n",
       "    }\n",
       "\n",
       "    .dataframe tbody tr th {\n",
       "        vertical-align: top;\n",
       "    }\n",
       "\n",
       "    .dataframe thead th {\n",
       "        text-align: right;\n",
       "    }\n",
       "</style>\n",
       "<table border=\"1\" class=\"dataframe\">\n",
       "  <thead>\n",
       "    <tr style=\"text-align: right;\">\n",
       "      <th></th>\n",
       "      <th>bike_count</th>\n",
       "      <th>hour</th>\n",
       "      <th>temperature</th>\n",
       "      <th>humidity</th>\n",
       "      <th>wind_speed</th>\n",
       "      <th>visibility</th>\n",
       "      <th>solar_radiation</th>\n",
       "      <th>rainfall</th>\n",
       "      <th>snowfall</th>\n",
       "      <th>season</th>\n",
       "      <th>holiday</th>\n",
       "      <th>day</th>\n",
       "    </tr>\n",
       "  </thead>\n",
       "  <tbody>\n",
       "    <tr>\n",
       "      <th>0</th>\n",
       "      <td>254</td>\n",
       "      <td>0</td>\n",
       "      <td>-5.2</td>\n",
       "      <td>37</td>\n",
       "      <td>2.2</td>\n",
       "      <td>2000</td>\n",
       "      <td>0.0</td>\n",
       "      <td>0.0</td>\n",
       "      <td>0.0</td>\n",
       "      <td>Winter</td>\n",
       "      <td>No Holiday</td>\n",
       "      <td>Friday</td>\n",
       "    </tr>\n",
       "    <tr>\n",
       "      <th>1</th>\n",
       "      <td>204</td>\n",
       "      <td>1</td>\n",
       "      <td>-5.5</td>\n",
       "      <td>38</td>\n",
       "      <td>0.8</td>\n",
       "      <td>2000</td>\n",
       "      <td>0.0</td>\n",
       "      <td>0.0</td>\n",
       "      <td>0.0</td>\n",
       "      <td>Winter</td>\n",
       "      <td>No Holiday</td>\n",
       "      <td>Friday</td>\n",
       "    </tr>\n",
       "    <tr>\n",
       "      <th>2</th>\n",
       "      <td>173</td>\n",
       "      <td>2</td>\n",
       "      <td>-6.0</td>\n",
       "      <td>39</td>\n",
       "      <td>1.0</td>\n",
       "      <td>2000</td>\n",
       "      <td>0.0</td>\n",
       "      <td>0.0</td>\n",
       "      <td>0.0</td>\n",
       "      <td>Winter</td>\n",
       "      <td>No Holiday</td>\n",
       "      <td>Friday</td>\n",
       "    </tr>\n",
       "    <tr>\n",
       "      <th>3</th>\n",
       "      <td>107</td>\n",
       "      <td>3</td>\n",
       "      <td>-6.2</td>\n",
       "      <td>40</td>\n",
       "      <td>0.9</td>\n",
       "      <td>2000</td>\n",
       "      <td>0.0</td>\n",
       "      <td>0.0</td>\n",
       "      <td>0.0</td>\n",
       "      <td>Winter</td>\n",
       "      <td>No Holiday</td>\n",
       "      <td>Friday</td>\n",
       "    </tr>\n",
       "    <tr>\n",
       "      <th>4</th>\n",
       "      <td>78</td>\n",
       "      <td>4</td>\n",
       "      <td>-6.0</td>\n",
       "      <td>36</td>\n",
       "      <td>2.3</td>\n",
       "      <td>2000</td>\n",
       "      <td>0.0</td>\n",
       "      <td>0.0</td>\n",
       "      <td>0.0</td>\n",
       "      <td>Winter</td>\n",
       "      <td>No Holiday</td>\n",
       "      <td>Friday</td>\n",
       "    </tr>\n",
       "  </tbody>\n",
       "</table>\n",
       "</div>"
      ],
      "text/plain": [
       "   bike_count hour  temperature  humidity  wind_speed  visibility  \\\n",
       "0         254    0         -5.2        37         2.2        2000   \n",
       "1         204    1         -5.5        38         0.8        2000   \n",
       "2         173    2         -6.0        39         1.0        2000   \n",
       "3         107    3         -6.2        40         0.9        2000   \n",
       "4          78    4         -6.0        36         2.3        2000   \n",
       "\n",
       "   solar_radiation  rainfall  snowfall  season     holiday     day  \n",
       "0              0.0       0.0       0.0  Winter  No Holiday  Friday  \n",
       "1              0.0       0.0       0.0  Winter  No Holiday  Friday  \n",
       "2              0.0       0.0       0.0  Winter  No Holiday  Friday  \n",
       "3              0.0       0.0       0.0  Winter  No Holiday  Friday  \n",
       "4              0.0       0.0       0.0  Winter  No Holiday  Friday  "
      ]
     },
     "execution_count": 2,
     "metadata": {},
     "output_type": "execute_result"
    }
   ],
   "source": [
    "bike_df = pd.read_csv('../data/SeoulBikeData.csv', engine = 'python')\n",
    "\n",
    "bike_df.columns = ['date', 'bike_count', 'hour', 'temperature', 'humidity', 'wind_speed', 'visibility', 'dew_point_temp', \n",
    "                   'solar_radiation', 'rainfall', 'snowfall', 'season', 'holiday', 'functioning_day']\n",
    "\n",
    "bike_df['date'] = pd.to_datetime(bike_df['date'], format = '%d/%m/%Y')\n",
    "bike_df['hour'] = bike_df['hour'].astype('category')\n",
    "bike_df['season'] = bike_df['season'].astype('category')\n",
    "bike_df['holiday'] = bike_df['holiday'].astype('category')\n",
    "bike_df['functioning_day'] = bike_df['functioning_day'].astype('category')\n",
    "bike_df['day'] = bike_df['date'].dt.day_name().astype('category')\n",
    "\n",
    "bike_df = bike_df[bike_df['functioning_day'] == 'Yes']\n",
    "bike_df = bike_df.drop(['date', 'functioning_day', 'dew_point_temp'], axis = 1)\n",
    "bike_df = bike_df.reset_index(drop = True)\n",
    "\n",
    "bike_df.head()"
   ]
  },
  {
   "cell_type": "code",
   "execution_count": 3,
   "metadata": {
    "scrolled": true
   },
   "outputs": [],
   "source": [
    "full_df = bike_df\n",
    "\n",
    "full_ddf = pd.get_dummies(full_df['hour'], drop_first = True, prefix = 'hour:')\n",
    "full_ddf = pd.concat([full_ddf, pd.get_dummies(full_df['day'], drop_first = True, prefix = 'day:')], axis = 1)\n",
    "full_ddf = pd.concat([full_ddf, pd.get_dummies(full_df['season'], drop_first = True, prefix = 'season:')], axis = 1)\n",
    "full_ddf = pd.concat([full_ddf, pd.get_dummies(full_df['holiday'],  prefix = 'holiday:')], axis = 1)\n",
    "full_ddf = full_ddf.drop('holiday:_No Holiday', axis = 1)\n",
    "\n",
    "full_df = full_df.drop(['hour', 'day', 'season', 'holiday'], axis = 1)\n",
    "\n",
    "y = pd.DataFrame(full_df['bike_count']).reset_index(drop = True)\n",
    "c = y > np.median(y)\n",
    "\n",
    "full_df = full_df.drop('bike_count', axis = 1)\n",
    "\n",
    "def featureNormalize(X):\n",
    "    return (X - np.mean(X, axis = 0)) / np.std(X, axis = 0, ddof = 1)\n",
    "\n",
    "X = pd.concat([featureNormalize(full_df), full_ddf], axis = 1).reset_index(drop = True)"
   ]
  },
  {
   "cell_type": "code",
   "execution_count": 4,
   "metadata": {
    "scrolled": true
   },
   "outputs": [],
   "source": [
    "random.seed(42)\n",
    "X_train = X.sample(frac = 0.7).sort_index()\n",
    "c_train = c[X.index.isin(X_train.index)]\n",
    "X_test = X[~X.index.isin(X_train.index)]\n",
    "c_test = c[~X.index.isin(X_train.index)]"
   ]
  },
  {
   "cell_type": "markdown",
   "metadata": {},
   "source": [
    "### k-NN Classification"
   ]
  },
  {
   "cell_type": "code",
   "execution_count": 5,
   "metadata": {
    "scrolled": true
   },
   "outputs": [],
   "source": [
    "knnc_k_arr = list(range(1, 21))\n",
    "\n",
    "knnc = GridSearchCV(KNeighborsClassifier(), \n",
    "                    param_grid = {'n_neighbors' : knnc_k_arr}, \n",
    "                    cv = 5, return_train_score = True)\n",
    "\n",
    "knnc.fit(X_train.values, c_train.values.ravel())\n",
    "\n",
    "knnc_df = pd.DataFrame(knnc.cv_results_)"
   ]
  },
  {
   "cell_type": "code",
   "execution_count": 6,
   "metadata": {
    "scrolled": true
   },
   "outputs": [
    {
     "data": {
      "image/png": "[encoded data removed]",
      "text/plain": [
       "<Figure size 432x288 with 1 Axes>"
      ]
     },
     "metadata": {
      "needs_background": "light"
     },
     "output_type": "display_data"
    }
   ],
   "source": [
    "plt.plot(knnc_df['param_n_neighbors'], 1 - knnc_df['mean_train_score'], c = 'b', label = 'Train')\n",
    "plt.plot(knnc_df['param_n_neighbors'], 1 - knnc_df['mean_test_score'], c = 'r', label = 'Cross Validation')\n",
    "plt.legend(loc = 4)\n",
    "plt.xlabel('k')\n",
    "plt.ylabel('Error Rate')\n",
    "plt.title('Train and CV Error Rates vs k')\n",
    "plt.show()"
   ]
  },
  {
   "cell_type": "code",
   "execution_count": 7,
   "metadata": {
    "scrolled": false
   },
   "outputs": [
    {
     "name": "stdout",
     "output_type": "stream",
     "text": [
      "Best Parameters: {'n_neighbors': 3}\n",
      "Best Cross-Validation Accuracy: 0.79\n"
     ]
    },
    {
     "data": {
      "image/png": "[encoded data removed]",
      "text/plain": [
       "<Figure size 432x288 with 1 Axes>"
      ]
     },
     "metadata": {
      "needs_background": "light"
     },
     "output_type": "display_data"
    },
    {
     "data": {
      "image/png": "[encoded data removed]",
      "text/plain": [
       "<Figure size 432x288 with 1 Axes>"
      ]
     },
     "metadata": {
      "needs_background": "light"
     },
     "output_type": "display_data"
    },
    {
     "name": "stdout",
     "output_type": "stream",
     "text": [
      "Accuracy: 0.91\n",
      "Senstivity: 0.93\n",
      "Specificity: 0.89\n"
     ]
    }
   ],
   "source": [
    "print('Best Parameters: {}'.format(knnc.best_params_))\n",
    "print('Best Cross-Validation Accuracy: {:.2f}'.format(knnc.best_score_))\n",
    "\n",
    "pred_knnc = knnc.predict(X_test)\n",
    "\n",
    "plot_roc_curve(knnc, X_test, c_test)\n",
    "plt.title('ROC Curve')\n",
    "plt.show()\n",
    "\n",
    "cm_knnc = confusion_matrix(c_test, pred_knnc)\n",
    "tn, fp, fn, tp = cm_knnc.ravel()\n",
    "\n",
    "ax = sns.heatmap(cm_knnc.T, square = True, annot = True, fmt = 'd', cbar = False, cmap = 'Greens')\n",
    "ax.set(xlabel = 'Actual', ylabel = 'Predicted', title = 'Confusion Matrix')\n",
    "plt.show()\n",
    "\n",
    "print('Accuracy: {:.2f}'.format(accuracy_score(c_test, pred_knnc)))\n",
    "print('Sensitivity: {:.2f}'.format(tp / (tp + fn)))\n",
    "print('Specificity: {:.2f}'.format(tn / (tn + fp)))"
   ]
  },
  {
   "cell_type": "markdown",
   "metadata": {},
   "source": [
    "### ANN Classification"
   ]
  },
  {
   "cell_type": "markdown",
   "metadata": {},
   "source": [
    "#### Model 1: Hyperparameters: Batch size and # of Epochs"
   ]
  },
  {
   "cell_type": "code",
   "execution_count": 8,
   "metadata": {
    "scrolled": true
   },
   "outputs": [],
   "source": [
    "def create_model1():\n",
    "    model = Sequential()\n",
    "    model.add(Input(shape = (40, )))\n",
    "    model.add(Dense(10, activation = 'sigmoid'))\n",
    "    model.add(Dense(1, activation = 'sigmoid'))\n",
    "    model.compile(loss = 'binary_crossentropy', optimizer = 'sgd', metrics = ['accuracy'])\n",
    "    return model"
   ]
  },
  {
   "cell_type": "code",
   "execution_count": 9,
   "metadata": {
    "scrolled": true
   },
   "outputs": [],
   "source": [
    "nnc1_model = KerasClassifier(build_fn = create_model1, verbose = 0)\n",
    "\n",
    "nnc1_batch_size_arr = [10, 20, 50]\n",
    "nnc1_epoch_arr = [10, 50, 100]\n",
    "\n",
    "nnc1 = GridSearchCV(estimator = nnc1_model, \n",
    "                    param_grid = {'batch_size' : nnc1_batch_size_arr, \n",
    "                                  'epochs' : nnc1_epoch_arr}, \n",
    "                    n_jobs = -1, cv = 5, return_train_score = True)\n",
    "\n",
    "nnc1.fit(X_train.values, c_train.values.ravel())\n",
    "\n",
    "nnc1_df = pd.DataFrame(nnc1.cv_results_)"
   ]
  },
  {
   "cell_type": "code",
   "execution_count": 10,
   "metadata": {
    "scrolled": false
   },
   "outputs": [
    {
     "name": "stdout",
     "output_type": "stream",
     "text": [
      "Best Parameters: {'batch_size': 10, 'epochs': 100}\n",
      "Best Cross-Validation Accuracy: 0.88\n",
      "WARNING:tensorflow:From C:\\Users\\krish\\AppData\\Roaming\\Python\\Python38\\site-packages\\tensorflow\\python\\keras\\wrappers\\scikit_learn.py:241: Sequential.predict_classes (from tensorflow.python.keras.engine.sequential) is deprecated and will be removed after 2021-01-01.\n",
      "Instructions for updating:\n",
      "Please use instead:* `np.argmax(model.predict(x), axis=-1)`,   if your model does multi-class classification   (e.g. if it uses a `softmax` last-layer activation).* `(model.predict(x) > 0.5).astype(\"int32\")`,   if your model does binary classification   (e.g. if it uses a `sigmoid` last-layer activation).\n"
     ]
    },
    {
     "data": {
      "image/png": "[encoded data removed]",
      "text/plain": [
       "<Figure size 432x288 with 1 Axes>"
      ]
     },
     "metadata": {
      "needs_background": "light"
     },
     "output_type": "display_data"
    },
    {
     "name": "stdout",
     "output_type": "stream",
     "text": [
      "Accuracy: 0.92\n",
      "Senstivity: 0.93\n",
      "Specificity: 0.91\n"
     ]
    }
   ],
   "source": [
    "print('Best Parameters: {}'.format(nnc1.best_params_))\n",
    "print('Best Cross-Validation Accuracy: {:.2f}'.format(nnc1.best_score_))\n",
    "\n",
    "pred_nnc1 = nnc1.predict(X_test)\n",
    "\n",
    "# plot_roc_curve(nnc1, X_test, c_test)\n",
    "# plt.title('ROC Curve')\n",
    "# plt.show()\n",
    "\n",
    "cm_nnc1 = confusion_matrix(c_test, pred_nnc1)\n",
    "tn, fp, fn, tp = cm_nnc1.ravel()\n",
    "\n",
    "ax = sns.heatmap(cm_nnc1.T, square = True, annot = True, fmt = 'd', cbar = False, cmap = 'Greens')\n",
    "ax.set(xlabel = 'Actual', ylabel = 'Predicted', title = 'Confusion Matrix')\n",
    "plt.show()\n",
    "\n",
    "print('Accuracy: {:.2f}'.format(accuracy_score(c_test, pred_nnc1)))\n",
    "print('Sensitivity: {:.2f}'.format(tp / (tp + fn)))\n",
    "print('Specificity: {:.2f}'.format(tn / (tn + fp)))"
   ]
  },
  {
   "cell_type": "markdown",
   "metadata": {},
   "source": [
    "#### Model 2: Activation Function of the 1st hidden layer nodes"
   ]
  },
  {
   "cell_type": "code",
   "execution_count": 11,
   "metadata": {
    "scrolled": true
   },
   "outputs": [],
   "source": [
    "def create_model2(activation = 'sigmoid'):\n",
    "    model = Sequential()\n",
    "    model.add(Input(shape=(40, )))\n",
    "    model.add(Dense(10, activation = activation))\n",
    "    model.add(Dense(1, activation = 'sigmoid'))\n",
    "    model.compile(loss = 'binary_crossentropy', optimizer = 'sgd', metrics = ['accuracy'])\n",
    "    return model"
   ]
  },
  {
   "cell_type": "code",
   "execution_count": 12,
   "metadata": {
    "scrolled": true
   },
   "outputs": [],
   "source": [
    "nnc2_model = KerasClassifier(build_fn = create_model2, batch_size = 10, epochs = 100, verbose = 0)\n",
    "\n",
    "nnc2_activation_arr = ['linear', 'relu', 'sigmoid', 'tanh']\n",
    "\n",
    "nnc2 = GridSearchCV(estimator = nnc2_model, \n",
    "                    param_grid = {'activation' : nnc2_activation_arr}, \n",
    "                    n_jobs = -1, cv = 5, return_train_score = True)\n",
    "\n",
    "nnc2.fit(X_train.values, c_train.values.ravel())\n",
    "\n",
    "nnc2_df = pd.DataFrame(nnc2.cv_results_)"
   ]
  },
  {
   "cell_type": "code",
   "execution_count": 13,
   "metadata": {
    "scrolled": true
   },
   "outputs": [
    {
     "data": {
      "text/html": [
       "<div>\n",
       "<style scoped>\n",
       "    .dataframe tbody tr th:only-of-type {\n",
       "        vertical-align: middle;\n",
       "    }\n",
       "\n",
       "    .dataframe tbody tr th {\n",
       "        vertical-align: top;\n",
       "    }\n",
       "\n",
       "    .dataframe thead th {\n",
       "        text-align: right;\n",
       "    }\n",
       "</style>\n",
       "<table border=\"1\" class=\"dataframe\">\n",
       "  <thead>\n",
       "    <tr style=\"text-align: right;\">\n",
       "      <th></th>\n",
       "      <th>param_activation</th>\n",
       "      <th>mean_train_score</th>\n",
       "      <th>mean_test_score</th>\n",
       "    </tr>\n",
       "  </thead>\n",
       "  <tbody>\n",
       "    <tr>\n",
       "      <th>0</th>\n",
       "      <td>linear</td>\n",
       "      <td>0.915499</td>\n",
       "      <td>0.885745</td>\n",
       "    </tr>\n",
       "    <tr>\n",
       "      <th>1</th>\n",
       "      <td>relu</td>\n",
       "      <td>0.946971</td>\n",
       "      <td>0.898235</td>\n",
       "    </tr>\n",
       "    <tr>\n",
       "      <th>2</th>\n",
       "      <td>sigmoid</td>\n",
       "      <td>0.918072</td>\n",
       "      <td>0.878150</td>\n",
       "    </tr>\n",
       "    <tr>\n",
       "      <th>3</th>\n",
       "      <td>tanh</td>\n",
       "      <td>0.941908</td>\n",
       "      <td>0.890471</td>\n",
       "    </tr>\n",
       "  </tbody>\n",
       "</table>\n",
       "</div>"
      ],
      "text/plain": [
       "  param_activation  mean_train_score  mean_test_score\n",
       "0           linear          0.915499         0.885745\n",
       "1             relu          0.946971         0.898235\n",
       "2          sigmoid          0.918072         0.878150\n",
       "3             tanh          0.941908         0.890471"
      ]
     },
     "execution_count": 13,
     "metadata": {},
     "output_type": "execute_result"
    }
   ],
   "source": [
    "nnc2_df[['param_activation', 'mean_train_score', 'mean_test_score']]"
   ]
  },
  {
   "cell_type": "code",
   "execution_count": 14,
   "metadata": {
    "scrolled": false
   },
   "outputs": [
    {
     "name": "stdout",
     "output_type": "stream",
     "text": [
      "Best Parameters: {'activation': 'relu'}\n",
      "Best Cross-Validation Accuracy: 0.90\n"
     ]
    },
    {
     "data": {
      "image/png": "[encoded data removed]",
      "text/plain": [
       "<Figure size 432x288 with 1 Axes>"
      ]
     },
     "metadata": {
      "needs_background": "light"
     },
     "output_type": "display_data"
    },
    {
     "name": "stdout",
     "output_type": "stream",
     "text": [
      "Accuracy: 0.94\n",
      "Senstivity: 0.95\n",
      "Specificity: 0.93\n"
     ]
    }
   ],
   "source": [
    "print('Best Parameters: {}'.format(nnc2.best_params_))\n",
    "print('Best Cross-Validation Accuracy: {:.2f}'.format(nnc2.best_score_))\n",
    "\n",
    "pred_nnc2 = nnc2.predict(X_test)\n",
    "\n",
    "# plot_roc_curve(nnc2, X_test, c_test)\n",
    "# plt.title('ROC Curve')\n",
    "# plt.show()\n",
    "\n",
    "cm_nnc2 = confusion_matrix(c_test, pred_nnc2)\n",
    "tn, fp, fn, tp = cm_nnc2.ravel()\n",
    "\n",
    "ax = sns.heatmap(cm_nnc2.T, square = True, annot = True, fmt = 'd', cbar = False, cmap = 'Greens')\n",
    "ax.set(xlabel = 'Actual', ylabel = 'Predicted', title = 'Confusion Matrix')\n",
    "plt.show()\n",
    "\n",
    "print('Accuracy: {:.2f}'.format(accuracy_score(c_test, pred_nnc2)))\n",
    "print('Sensitivity: {:.2f}'.format(tp / (tp + fn)))\n",
    "print('Specificity: {:.2f}'.format(tn / (tn + fp)))"
   ]
  },
  {
   "cell_type": "markdown",
   "metadata": {},
   "source": [
    "#### Model 3: Learning Rate and Momentum of the 1st hidden layer nodes"
   ]
  },
  {
   "cell_type": "code",
   "execution_count": 15,
   "metadata": {
    "scrolled": true
   },
   "outputs": [],
   "source": [
    "def create_model3(learn_rate = 0.01, momentum = 0.0):\n",
    "    model = Sequential()\n",
    "    model.add(Input(shape=(40, )))\n",
    "    model.add(Dense(10, activation = 'relu'))\n",
    "    model.add(Dense(1, activation = 'sigmoid'))\n",
    "    optimizer = SGD(lr = learn_rate, momentum = momentum)\n",
    "    model.compile(loss = 'binary_crossentropy', optimizer = optimizer, metrics = ['accuracy'])\n",
    "    return model"
   ]
  },
  {
   "cell_type": "code",
   "execution_count": 16,
   "metadata": {
    "scrolled": true
   },
   "outputs": [],
   "source": [
    "nnc3_model = KerasClassifier(build_fn = create_model3, batch_size = 10, epochs = 100, verbose = 0)\n",
    "\n",
    "nnc3_learn_rate_arr = [0.001, 0.01, 0.1, 0.2, 0.5]\n",
    "nnc3_momentum_arr = [0.0, 0.1, 0.2, 0.5, 0.9]\n",
    "\n",
    "nnc3 = GridSearchCV(estimator = nnc3_model, \n",
    "                    param_grid = {'learn_rate' : nnc3_learn_rate_arr,\n",
    "                                  'momentum' : nnc3_momentum_arr}, \n",
    "                    n_jobs = -1, cv = 5, return_train_score = True)\n",
    "\n",
    "nnc3.fit(X_train.values, c_train.values.ravel())\n",
    "\n",
    "nnc3_df = pd.DataFrame(nnc3.cv_results_)"
   ]
  },
  {
   "cell_type": "code",
   "execution_count": 17,
   "metadata": {
    "scrolled": false
   },
   "outputs": [
    {
     "data": {
      "image/png": "[encoded data removed]",
      "text/plain": [
       "<Figure size 432x288 with 2 Axes>"
      ]
     },
     "metadata": {
      "needs_background": "light"
     },
     "output_type": "display_data"
    },
    {
     "data": {
      "image/png": "[encoded data removed]",
      "text/plain": [
       "<Figure size 432x288 with 2 Axes>"
      ]
     },
     "metadata": {
      "needs_background": "light"
     },
     "output_type": "display_data"
    }
   ],
   "source": [
    "nnc3_train_err_mat = (1 - nnc3_df['mean_train_score']).values.reshape(len(nnc3_learn_rate_arr), len(nnc3_momentum_arr))\n",
    "ax = sns.heatmap(pd.DataFrame(nnc3_train_err_mat, columns = nnc3_momentum_arr, index = nnc3_learn_rate_arr).iloc[::-1], \n",
    "                 annot = True, cmap = 'Greens_r')\n",
    "ax.set(xlabel = 'Momentum', ylabel = 'Learning Rate', title = 'Train Error Rate vs Tuning Parameters')\n",
    "plt.show()\n",
    "\n",
    "nnc3_cv_err_mat = (1 - nnc3_df['mean_test_score']).values.reshape(len(nnc3_learn_rate_arr), len(nnc3_momentum_arr))\n",
    "ax = sns.heatmap(pd.DataFrame(nnc3_cv_err_mat, columns = nnc3_momentum_arr, index = nnc3_learn_rate_arr).iloc[::-1], \n",
    "                 annot = True, cmap = 'Greens_r')\n",
    "ax.set(xlabel = 'Momentum', ylabel = 'Learning Rate', title = 'CV Error Rate vs Tuning Parameters')\n",
    "plt.show()"
   ]
  },
  {
   "cell_type": "code",
   "execution_count": 18,
   "metadata": {
    "scrolled": false
   },
   "outputs": [
    {
     "name": "stdout",
     "output_type": "stream",
     "text": [
      "Best Parameters: {'learn_rate': 0.1, 'momentum': 0.1}\n",
      "Best Cross-Validation Accuracy: 0.91\n"
     ]
    },
    {
     "data": {
      "image/png": "[encoded data removed]",
      "text/plain": [
       "<Figure size 432x288 with 1 Axes>"
      ]
     },
     "metadata": {
      "needs_background": "light"
     },
     "output_type": "display_data"
    },
    {
     "name": "stdout",
     "output_type": "stream",
     "text": [
      "Accuracy: 0.94\n",
      "Senstivity: 0.96\n",
      "Specificity: 0.92\n"
     ]
    }
   ],
   "source": [
    "print('Best Parameters: {}'.format(nnc3.best_params_))\n",
    "print('Best Cross-Validation Accuracy: {:.2f}'.format(nnc3.best_score_))\n",
    "\n",
    "pred_nnc3 = nnc3.predict(X_test)\n",
    "\n",
    "# plot_roc_curve(nnc3, X_test, c_test)\n",
    "# plt.title('ROC Curve')\n",
    "# plt.show()\n",
    "\n",
    "cm_nnc3 = confusion_matrix(c_test, pred_nnc3)\n",
    "tn, fp, fn, tp = cm_nnc3.ravel()\n",
    "\n",
    "ax = sns.heatmap(cm_nnc3.T, square = True, annot = True, fmt = 'd', cbar = False, cmap = 'Greens')\n",
    "ax.set(xlabel = 'Actual', ylabel = 'Predicted', title = 'Confusion Matrix')\n",
    "plt.show()\n",
    "\n",
    "print('Accuracy: {:.2f}'.format(accuracy_score(c_test, pred_nnc3)))\n",
    "print('Sensitivity: {:.2f}'.format(tp / (tp + fn)))\n",
    "print('Specificity: {:.2f}'.format(tn / (tn + fp)))"
   ]
  },
  {
   "cell_type": "markdown",
   "metadata": {},
   "source": [
    "#### Model 4: Drop-out Rate and Weight Constraint of the 1st hidden layer nodes"
   ]
  },
  {
   "cell_type": "code",
   "execution_count": 19,
   "metadata": {
    "scrolled": true
   },
   "outputs": [],
   "source": [
    "def create_model4(dropout_rate = 0.0, weight_constraint = 0):\n",
    "    model = Sequential()\n",
    "    model.add(Input(shape=(40, )))\n",
    "    model.add(Dense(10, activation = 'relu', kernel_constraint = maxnorm(weight_constraint)))\n",
    "    model.add(Dropout(dropout_rate))\n",
    "    model.add(Dense(1, activation = 'sigmoid'))\n",
    "    optimizer = SGD(lr = 0.1, momentum = 0.1)\n",
    "    model.compile(loss = 'binary_crossentropy', optimizer = optimizer, metrics= ['accuracy'])\n",
    "    return model"
   ]
  },
  {
   "cell_type": "code",
   "execution_count": 20,
   "metadata": {
    "scrolled": true
   },
   "outputs": [],
   "source": [
    "nnc4_model = KerasClassifier(build_fn = create_model4, batch_size = 10, epochs = 100, verbose = 0)\n",
    "\n",
    "nnc4_wgt_constraint_arr = [0, 1, 2, 3, 4, 5]\n",
    "nnc4_dropout_rate_arr = [0.0, 0.1, 0.2, 0.5, 0.9]\n",
    "\n",
    "nnc4 = GridSearchCV(estimator = nnc4_model, \n",
    "                    param_grid = {'weight_constraint' : nnc4_wgt_constraint_arr,\n",
    "                                  'dropout_rate' : nnc4_dropout_rate_arr}, \n",
    "                    n_jobs = -1, cv = 5, return_train_score = True)\n",
    "\n",
    "nnc4.fit(X_train.values, c_train.values.ravel())\n",
    "\n",
    "nnc4_df = pd.DataFrame(nnc4.cv_results_)"
   ]
  },
  {
   "cell_type": "code",
   "execution_count": 21,
   "metadata": {
    "scrolled": false
   },
   "outputs": [
    {
     "data": {
      "image/png": "[encoded data removed]",
      "text/plain": [
       "<Figure size 432x288 with 2 Axes>"
      ]
     },
     "metadata": {
      "needs_background": "light"
     },
     "output_type": "display_data"
    },
    {
     "data": {
      "image/png": "[encoded data removed]",
      "text/plain": [
       "<Figure size 432x288 with 2 Axes>"
      ]
     },
     "metadata": {
      "needs_background": "light"
     },
     "output_type": "display_data"
    }
   ],
   "source": [
    "nnc4_train_err_mat = (1 - nnc4_df['mean_train_score']).values.reshape(len(nnc4_wgt_constraint_arr), \n",
    "                                                                      len(nnc4_dropout_rate_arr))\n",
    "ax = sns.heatmap(pd.DataFrame(nnc4_train_err_mat, columns = nnc4_dropout_rate_arr, \n",
    "                              index = nnc4_wgt_constraint_arr).iloc[::-1], annot = True, cmap = 'Greens_r')\n",
    "ax.set(xlabel = 'Drop-out Rate', ylabel = 'Max Norm Weight', title = 'Train Error Rate vs Tuning Parameters')\n",
    "plt.show()\n",
    "\n",
    "nnc4_cv_err_mat = (1 - nnc4_df['mean_test_score']).values.reshape(len(nnc4_wgt_constraint_arr), len(nnc4_dropout_rate_arr))\n",
    "ax = sns.heatmap(pd.DataFrame(nnc4_cv_err_mat, columns = nnc4_dropout_rate_arr, \n",
    "                              index = nnc4_wgt_constraint_arr).iloc[::-1], annot = True, cmap = 'Greens_r')\n",
    "ax.set(xlabel = 'Drop-out Rate', ylabel = 'Max Norm Weight', title = 'CV Error Rate vs Tuning Parameters')\n",
    "plt.show()"
   ]
  },
  {
   "cell_type": "code",
   "execution_count": 22,
   "metadata": {
    "scrolled": false
   },
   "outputs": [
    {
     "name": "stdout",
     "output_type": "stream",
     "text": [
      "Best Parameters: {'dropout_rate': 0.2, 'weight_constraint': 3}\n",
      "Best Cross-Validation Accuracy: 0.91\n"
     ]
    },
    {
     "data": {
      "image/png": "[encoded data removed]",
      "text/plain": [
       "<Figure size 432x288 with 1 Axes>"
      ]
     },
     "metadata": {
      "needs_background": "light"
     },
     "output_type": "display_data"
    },
    {
     "name": "stdout",
     "output_type": "stream",
     "text": [
      "Accuracy: 0.94\n",
      "Senstivity: 0.93\n",
      "Specificity: 0.95\n"
     ]
    }
   ],
   "source": [
    "print('Best Parameters: {}'.format(nnc4.best_params_))\n",
    "print('Best Cross-Validation Accuracy: {:.2f}'.format(nnc4.best_score_))\n",
    "\n",
    "pred_nnc4 = nnc4.predict(X_test)\n",
    "\n",
    "# plot_roc_curve(nnc4, X_test, c_test)\n",
    "# plt.title('ROC Curve')\n",
    "# plt.show()\n",
    "\n",
    "cm_nnc4 = confusion_matrix(c_test, pred_nnc4)\n",
    "tn, fp, fn, tp = cm_nnc4.ravel()\n",
    "\n",
    "ax = sns.heatmap(cm_nnc4.T, square = True, annot = True, fmt = 'd', cbar = False, cmap = 'Greens')\n",
    "ax.set(xlabel = 'Actual', ylabel = 'Predicted', title = 'Confusion Matrix')\n",
    "plt.show()\n",
    "\n",
    "print('Accuracy: {:.2f}'.format(accuracy_score(c_test, pred_nnc4)))\n",
    "print('Sensitivity: {:.2f}'.format(tp / (tp + fn)))\n",
    "print('Specificity: {:.2f}'.format(tn / (tn + fp)))"
   ]
  },
  {
   "cell_type": "markdown",
   "metadata": {},
   "source": [
    "#### Model 5: # of Neurons in the 1st hidden layer"
   ]
  },
  {
   "cell_type": "code",
   "execution_count": 23,
   "metadata": {
    "scrolled": true
   },
   "outputs": [],
   "source": [
    "def create_model5(neurons = 0):\n",
    "    model = Sequential()\n",
    "    model.add(Input(shape=(40, )))\n",
    "    model.add(Dense(neurons, activation = 'relu', kernel_constraint = maxnorm(3)))\n",
    "    model.add(Dropout(0.2))\n",
    "    model.add(Dense(1, activation = 'sigmoid'))\n",
    "    optimizer = SGD(lr = 0.1, momentum = 0.1)\n",
    "    model.compile(loss = 'binary_crossentropy', optimizer = optimizer, metrics= ['accuracy'])\n",
    "    return model"
   ]
  },
  {
   "cell_type": "code",
   "execution_count": 24,
   "metadata": {
    "scrolled": true
   },
   "outputs": [],
   "source": [
    "nnc5_model = KerasClassifier(build_fn = create_model5, batch_size = 10, epochs = 100, verbose = 0)\n",
    "\n",
    "nnc5_neuron_arr = [1, 5, 10, 15, 20, 25, 30]\n",
    "\n",
    "nnc5 = GridSearchCV(estimator = nnc5_model, \n",
    "                    param_grid = {'neurons' : nnc5_neuron_arr}, \n",
    "                    n_jobs = -1, cv = 5, return_train_score = True)\n",
    "\n",
    "nnc5.fit(X_train.values, c_train.values.ravel())\n",
    "\n",
    "nnc5_df = pd.DataFrame(nnc5.cv_results_)"
   ]
  },
  {
   "cell_type": "code",
   "execution_count": 25,
   "metadata": {
    "scrolled": true
   },
   "outputs": [
    {
     "data": {
      "text/html": [
       "<div>\n",
       "<style scoped>\n",
       "    .dataframe tbody tr th:only-of-type {\n",
       "        vertical-align: middle;\n",
       "    }\n",
       "\n",
       "    .dataframe tbody tr th {\n",
       "        vertical-align: top;\n",
       "    }\n",
       "\n",
       "    .dataframe thead th {\n",
       "        text-align: right;\n",
       "    }\n",
       "</style>\n",
       "<table border=\"1\" class=\"dataframe\">\n",
       "  <thead>\n",
       "    <tr style=\"text-align: right;\">\n",
       "      <th></th>\n",
       "      <th>param_neurons</th>\n",
       "      <th>mean_train_score</th>\n",
       "      <th>mean_test_score</th>\n",
       "    </tr>\n",
       "  </thead>\n",
       "  <tbody>\n",
       "    <tr>\n",
       "      <th>0</th>\n",
       "      <td>1</td>\n",
       "      <td>0.897823</td>\n",
       "      <td>0.821948</td>\n",
       "    </tr>\n",
       "    <tr>\n",
       "      <th>1</th>\n",
       "      <td>5</td>\n",
       "      <td>0.928451</td>\n",
       "      <td>0.877642</td>\n",
       "    </tr>\n",
       "    <tr>\n",
       "      <th>2</th>\n",
       "      <td>10</td>\n",
       "      <td>0.950261</td>\n",
       "      <td>0.888952</td>\n",
       "    </tr>\n",
       "    <tr>\n",
       "      <th>3</th>\n",
       "      <td>15</td>\n",
       "      <td>0.959416</td>\n",
       "      <td>0.911229</td>\n",
       "    </tr>\n",
       "    <tr>\n",
       "      <th>4</th>\n",
       "      <td>20</td>\n",
       "      <td>0.965111</td>\n",
       "      <td>0.905998</td>\n",
       "    </tr>\n",
       "    <tr>\n",
       "      <th>5</th>\n",
       "      <td>25</td>\n",
       "      <td>0.968908</td>\n",
       "      <td>0.908023</td>\n",
       "    </tr>\n",
       "    <tr>\n",
       "      <th>6</th>\n",
       "      <td>30</td>\n",
       "      <td>0.973464</td>\n",
       "      <td>0.899414</td>\n",
       "    </tr>\n",
       "  </tbody>\n",
       "</table>\n",
       "</div>"
      ],
      "text/plain": [
       "  param_neurons  mean_train_score  mean_test_score\n",
       "0             1          0.897823         0.821948\n",
       "1             5          0.928451         0.877642\n",
       "2            10          0.950261         0.888952\n",
       "3            15          0.959416         0.911229\n",
       "4            20          0.965111         0.905998\n",
       "5            25          0.968908         0.908023\n",
       "6            30          0.973464         0.899414"
      ]
     },
     "execution_count": 25,
     "metadata": {},
     "output_type": "execute_result"
    }
   ],
   "source": [
    "nnc5_df[['param_neurons', 'mean_train_score', 'mean_test_score']]"
   ]
  },
  {
   "cell_type": "code",
   "execution_count": 26,
   "metadata": {},
   "outputs": [
    {
     "name": "stdout",
     "output_type": "stream",
     "text": [
      "Best Parameters: {'neurons': 15}\n",
      "Best Cross-Validation Accuracy: 0.91\n"
     ]
    },
    {
     "data": {
      "image/png": "[encoded data removed]",
      "text/plain": [
       "<Figure size 432x288 with 1 Axes>"
      ]
     },
     "metadata": {
      "needs_background": "light"
     },
     "output_type": "display_data"
    },
    {
     "name": "stdout",
     "output_type": "stream",
     "text": [
      "Accuracy: 0.94\n",
      "Senstivity: 0.94\n",
      "Specificity: 0.94\n"
     ]
    }
   ],
   "source": [
    "print('Best Parameters: {}'.format(nnc5.best_params_))\n",
    "print('Best Cross-Validation Accuracy: {:.2f}'.format(nnc5.best_score_))\n",
    "\n",
    "pred_nnc5 = nnc5.predict(X_test)\n",
    "\n",
    "# plot_roc_curve(nnc5, X_test, c_test)\n",
    "# plt.title('ROC Curve')\n",
    "# plt.show()\n",
    "\n",
    "cm_nnc5 = confusion_matrix(c_test, pred_nnc5)\n",
    "tn, fp, fn, tp = cm_nnc5.ravel()\n",
    "\n",
    "ax = sns.heatmap(cm_nnc5.T, square = True, annot = True, fmt = 'd', cbar = False, cmap = 'Greens')\n",
    "ax.set(xlabel = 'Actual', ylabel = 'Predicted', title = 'Confusion Matrix')\n",
    "plt.show()\n",
    "\n",
    "print('Accuracy: {:.2f}'.format(accuracy_score(c_test, pred_nnc5)))\n",
    "print('Sensitivity: {:.2f}'.format(tp / (tp + fn)))\n",
    "print('Specificity: {:.2f}'.format(tn / (tn + fp)))"
   ]
  },
  {
   "cell_type": "markdown",
   "metadata": {},
   "source": [
    "#### Model 6: # of Neurons in the 2nd hidden layer"
   ]
  },
  {
   "cell_type": "code",
   "execution_count": 27,
   "metadata": {
    "scrolled": true
   },
   "outputs": [],
   "source": [
    "def create_model6(neurons = 0):\n",
    "    model = Sequential()\n",
    "    model.add(Input(shape=(40, )))\n",
    "    model.add(Dense(15, activation = 'relu', kernel_constraint = maxnorm(3)))\n",
    "    model.add(Dropout(0.2))\n",
    "    model.add(Dense(neurons, activation = 'relu', kernel_constraint = maxnorm(3)))\n",
    "    model.add(Dropout(0.2))\n",
    "    model.add(Dense(1, activation = 'sigmoid'))\n",
    "    optimizer = SGD(lr = 0.1, momentum = 0.1)\n",
    "    model.compile(loss = 'binary_crossentropy', optimizer = optimizer, metrics= ['accuracy'])\n",
    "    return model"
   ]
  },
  {
   "cell_type": "code",
   "execution_count": 28,
   "metadata": {
    "scrolled": true
   },
   "outputs": [],
   "source": [
    "nnc6_model = KerasClassifier(build_fn = create_model6, batch_size = 10, epochs = 100, verbose = 0)\n",
    "\n",
    "nnc6_neuron_arr = [1, 5, 10, 15, 20, 25, 30]\n",
    "\n",
    "nnc6 = GridSearchCV(estimator = nnc6_model, \n",
    "                    param_grid = {'neurons' : nnc6_neuron_arr}, \n",
    "                    n_jobs = -1, cv = 5, return_train_score = True)\n",
    "\n",
    "nnc6.fit(X_train.values, c_train.values.ravel())\n",
    "\n",
    "nnc6_df = pd.DataFrame(nnc6.cv_results_)"
   ]
  },
  {
   "cell_type": "code",
   "execution_count": 29,
   "metadata": {
    "scrolled": true
   },
   "outputs": [
    {
     "data": {
      "text/html": [
       "<div>\n",
       "<style scoped>\n",
       "    .dataframe tbody tr th:only-of-type {\n",
       "        vertical-align: middle;\n",
       "    }\n",
       "\n",
       "    .dataframe tbody tr th {\n",
       "        vertical-align: top;\n",
       "    }\n",
       "\n",
       "    .dataframe thead th {\n",
       "        text-align: right;\n",
       "    }\n",
       "</style>\n",
       "<table border=\"1\" class=\"dataframe\">\n",
       "  <thead>\n",
       "    <tr style=\"text-align: right;\">\n",
       "      <th></th>\n",
       "      <th>param_neurons</th>\n",
       "      <th>mean_train_score</th>\n",
       "      <th>mean_test_score</th>\n",
       "    </tr>\n",
       "  </thead>\n",
       "  <tbody>\n",
       "    <tr>\n",
       "      <th>0</th>\n",
       "      <td>1</td>\n",
       "      <td>0.955408</td>\n",
       "      <td>0.886927</td>\n",
       "    </tr>\n",
       "    <tr>\n",
       "      <th>1</th>\n",
       "      <td>5</td>\n",
       "      <td>0.954143</td>\n",
       "      <td>0.908698</td>\n",
       "    </tr>\n",
       "    <tr>\n",
       "      <th>2</th>\n",
       "      <td>10</td>\n",
       "      <td>0.958066</td>\n",
       "      <td>0.899246</td>\n",
       "    </tr>\n",
       "    <tr>\n",
       "      <th>3</th>\n",
       "      <td>15</td>\n",
       "      <td>0.957855</td>\n",
       "      <td>0.906503</td>\n",
       "    </tr>\n",
       "    <tr>\n",
       "      <th>4</th>\n",
       "      <td>20</td>\n",
       "      <td>0.961694</td>\n",
       "      <td>0.900428</td>\n",
       "    </tr>\n",
       "    <tr>\n",
       "      <th>5</th>\n",
       "      <td>25</td>\n",
       "      <td>0.955112</td>\n",
       "      <td>0.905490</td>\n",
       "    </tr>\n",
       "    <tr>\n",
       "      <th>6</th>\n",
       "      <td>30</td>\n",
       "      <td>0.963002</td>\n",
       "      <td>0.901102</td>\n",
       "    </tr>\n",
       "  </tbody>\n",
       "</table>\n",
       "</div>"
      ],
      "text/plain": [
       "  param_neurons  mean_train_score  mean_test_score\n",
       "0             1          0.955408         0.886927\n",
       "1             5          0.954143         0.908698\n",
       "2            10          0.958066         0.899246\n",
       "3            15          0.957855         0.906503\n",
       "4            20          0.961694         0.900428\n",
       "5            25          0.955112         0.905490\n",
       "6            30          0.963002         0.901102"
      ]
     },
     "execution_count": 29,
     "metadata": {},
     "output_type": "execute_result"
    }
   ],
   "source": [
    "nnc6_df[['param_neurons', 'mean_train_score', 'mean_test_score']]"
   ]
  },
  {
   "cell_type": "code",
   "execution_count": 30,
   "metadata": {
    "scrolled": false
   },
   "outputs": [
    {
     "name": "stdout",
     "output_type": "stream",
     "text": [
      "Best Parameters: {'neurons': 5}\n",
      "Best Cross-Validation Accuracy: 0.91\n"
     ]
    },
    {
     "data": {
      "image/png": "[encoded data removed]",
      "text/plain": [
       "<Figure size 432x288 with 1 Axes>"
      ]
     },
     "metadata": {
      "needs_background": "light"
     },
     "output_type": "display_data"
    },
    {
     "name": "stdout",
     "output_type": "stream",
     "text": [
      "Accuracy: 0.94\n",
      "Senstivity: 0.97\n",
      "Specificity: 0.91\n"
     ]
    }
   ],
   "source": [
    "print('Best Parameters: {}'.format(nnc6.best_params_))\n",
    "print('Best Cross-Validation Accuracy: {:.2f}'.format(nnc6.best_score_))\n",
    "\n",
    "pred_nnc6 = nnc6.predict(X_test)\n",
    "\n",
    "# plot_roc_curve(nnc6, X_test, c_test)\n",
    "# plt.title('ROC Curve')\n",
    "# plt.show()\n",
    "\n",
    "cm_nnc6 = confusion_matrix(c_test, pred_nnc6)\n",
    "tn, fp, fn, tp = cm_nnc6.ravel()\n",
    "\n",
    "ax = sns.heatmap(cm_nnc6.T, square = True, annot = True, fmt = 'd', cbar = False, cmap = 'Greens')\n",
    "ax.set(xlabel = 'Actual', ylabel = 'Predicted', title = 'Confusion Matrix')\n",
    "plt.show()\n",
    "\n",
    "print('Accuracy: {:.2f}'.format(accuracy_score(c_test, pred_nnc6)))\n",
    "print('Sensitivity: {:.2f}'.format(tp / (tp + fn)))\n",
    "print('Specificity: {:.2f}'.format(tn / (tn + fp)))"
   ]
  },
  {
   "cell_type": "code",
   "execution_count": 31,
   "metadata": {
    "scrolled": true
   },
   "outputs": [],
   "source": [
    "# def final_model():\n",
    "#     model = Sequential()\n",
    "#     model.add(Input(shape=(40, )))\n",
    "#     model.add(Dense(neurons = 15, activation = 'relu', kernel_constraint = maxnorm(3)))\n",
    "#     model.add(Dropout(0.2))\n",
    "#     model.add(Dense(1, activation = 'sigmoid'))\n",
    "#     optimizer = SGD(lr = 0.1, momentum = 0.1)\n",
    "#     model.compile(loss = 'binary_crossentropy', optimizer = optimizer, metrics= ['accuracy'])\n",
    "#     return model\n",
    "# annc_model = KerasClassifier(build_fn = final_model, batch_size = 10, epochs = 100, verbose = 0)"
   ]
  }
 ],
 "metadata": {
  "kernelspec": {
   "display_name": "Python 3",
   "language": "python",
   "name": "python3"
  },
  "language_info": {
   "codemirror_mode": {
    "name": "ipython",
    "version": 3
   },
   "file_extension": ".py",
   "mimetype": "text/x-python",
   "name": "python",
   "nbconvert_exporter": "python",
   "pygments_lexer": "ipython3",
   "version": "3.8.2"
  }
 },
 "nbformat": 4,
 "nbformat_minor": 2
}
