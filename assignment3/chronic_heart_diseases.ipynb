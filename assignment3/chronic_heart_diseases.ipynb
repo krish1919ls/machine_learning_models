{
 "cells": [
  {
   "cell_type": "markdown",
   "metadata": {},
   "source": [
    "# Chronic Heart Diseases Classification"
   ]
  },
  {
   "cell_type": "code",
   "execution_count": 1,
   "metadata": {},
   "outputs": [],
   "source": [
    "import random\n",
    "import pandas as pd\n",
    "import numpy as np\n",
    "\n",
    "np.random.seed(42)\n",
    "\n",
    "import tensorflow\n",
    "\n",
    "tensorflow.random.set_seed(42)\n",
    "\n",
    "import matplotlib.pyplot as plt\n",
    "import seaborn as sns\n",
    "from sklearn.model_selection import GridSearchCV\n",
    "from sklearn.metrics import make_scorer, matthews_corrcoef, accuracy_score, confusion_matrix, plot_roc_curve\n",
    "from sklearn.neighbors import KNeighborsClassifier\n",
    "import keras.backend as K\n",
    "from keras.models import Sequential\n",
    "from keras.layers import Dense, Input, Dropout\n",
    "from keras.wrappers.scikit_learn import KerasClassifier\n",
    "from keras.optimizers import SGD\n",
    "from keras.constraints import maxnorm\n",
    "from warnings import filterwarnings\n",
    "\n",
    "filterwarnings('ignore')"
   ]
  },
  {
   "cell_type": "code",
   "execution_count": 2,
   "metadata": {},
   "outputs": [],
   "source": [
    "def custom_scorer(y_true, y_pred, actual_scorer):\n",
    "    score = np.nan\n",
    "    try: score = actual_scorer(y_true, y_pred)\n",
    "    except Exception: pass\n",
    "    return score\n",
    "\n",
    "mcc = make_scorer(custom_scorer, actual_scorer = matthews_corrcoef)\n",
    "\n",
    "# def f1_score(y_true, y_pred):\n",
    "#     true_positives = K.sum(K.round(K.clip(y_true * y_pred, 0, 1)))\n",
    "#     possible_positives = K.sum(K.round(K.clip(y_true, 0, 1)))\n",
    "#     predicted_positives = K.sum(K.round(K.clip(y_pred, 0, 1)))\n",
    "#     precision = true_positives / (predicted_positives + K.epsilon())\n",
    "#     recall = true_positives / (possible_positives + K.epsilon())\n",
    "#     f1_val = 2 * (precision * recall) / (precision + recall + K.epsilon())\n",
    "#     return f1_val\n",
    "\n",
    "def matthews_correlation(y_true, y_pred):\n",
    "    y_pred_pos = K.round(K.clip(y_pred, 0, 1))\n",
    "    y_pred_neg = 1 - y_pred_pos\n",
    "    y_pos = K.round(K.clip(y_true, 0, 1))\n",
    "    y_neg = 1 - y_pos\n",
    "    tp = K.sum(y_pos * y_pred_pos)\n",
    "    tn = K.sum(y_neg * y_pred_neg)\n",
    "    fp = K.sum(y_neg * y_pred_pos)\n",
    "    fn = K.sum(y_pos * y_pred_neg)\n",
    "    numerator = (tp * tn - fp * fn)\n",
    "    denominator = K.sqrt((tp + fp) * (tp + fn) * (tn + fp) * (tn + fn))\n",
    "    return numerator / (denominator + K.epsilon())"
   ]
  },
  {
   "cell_type": "markdown",
   "metadata": {},
   "source": [
    "### Preprocessing"
   ]
  },
  {
   "cell_type": "code",
   "execution_count": 3,
   "metadata": {
    "scrolled": true
   },
   "outputs": [
    {
     "data": {
      "text/html": [
       "<div>\n",
       "<style scoped>\n",
       "    .dataframe tbody tr th:only-of-type {\n",
       "        vertical-align: middle;\n",
       "    }\n",
       "\n",
       "    .dataframe tbody tr th {\n",
       "        vertical-align: top;\n",
       "    }\n",
       "\n",
       "    .dataframe thead th {\n",
       "        text-align: right;\n",
       "    }\n",
       "</style>\n",
       "<table border=\"1\" class=\"dataframe\">\n",
       "  <thead>\n",
       "    <tr style=\"text-align: right;\">\n",
       "      <th></th>\n",
       "      <th>male</th>\n",
       "      <th>age</th>\n",
       "      <th>education</th>\n",
       "      <th>current_smoker</th>\n",
       "      <th>cigs_per_day</th>\n",
       "      <th>bp_meds</th>\n",
       "      <th>prevalent_stroke</th>\n",
       "      <th>prevalent_hyper</th>\n",
       "      <th>diabetes</th>\n",
       "      <th>total_chol</th>\n",
       "      <th>sys_bp</th>\n",
       "      <th>dia_bp</th>\n",
       "      <th>bmi</th>\n",
       "      <th>heart_rate</th>\n",
       "      <th>glucose</th>\n",
       "      <th>ten_year_chd</th>\n",
       "    </tr>\n",
       "  </thead>\n",
       "  <tbody>\n",
       "    <tr>\n",
       "      <th>0</th>\n",
       "      <td>1</td>\n",
       "      <td>39</td>\n",
       "      <td>College</td>\n",
       "      <td>0</td>\n",
       "      <td>0.0</td>\n",
       "      <td>0</td>\n",
       "      <td>0</td>\n",
       "      <td>0</td>\n",
       "      <td>0</td>\n",
       "      <td>195.0</td>\n",
       "      <td>106.0</td>\n",
       "      <td>70.0</td>\n",
       "      <td>26.97</td>\n",
       "      <td>80.0</td>\n",
       "      <td>77.0</td>\n",
       "      <td>0</td>\n",
       "    </tr>\n",
       "    <tr>\n",
       "      <th>1</th>\n",
       "      <td>0</td>\n",
       "      <td>46</td>\n",
       "      <td>High School or GED</td>\n",
       "      <td>0</td>\n",
       "      <td>0.0</td>\n",
       "      <td>0</td>\n",
       "      <td>0</td>\n",
       "      <td>0</td>\n",
       "      <td>0</td>\n",
       "      <td>250.0</td>\n",
       "      <td>121.0</td>\n",
       "      <td>81.0</td>\n",
       "      <td>28.73</td>\n",
       "      <td>95.0</td>\n",
       "      <td>76.0</td>\n",
       "      <td>0</td>\n",
       "    </tr>\n",
       "    <tr>\n",
       "      <th>2</th>\n",
       "      <td>1</td>\n",
       "      <td>48</td>\n",
       "      <td>Some High School</td>\n",
       "      <td>1</td>\n",
       "      <td>20.0</td>\n",
       "      <td>0</td>\n",
       "      <td>0</td>\n",
       "      <td>0</td>\n",
       "      <td>0</td>\n",
       "      <td>245.0</td>\n",
       "      <td>127.5</td>\n",
       "      <td>80.0</td>\n",
       "      <td>25.34</td>\n",
       "      <td>75.0</td>\n",
       "      <td>70.0</td>\n",
       "      <td>0</td>\n",
       "    </tr>\n",
       "    <tr>\n",
       "      <th>3</th>\n",
       "      <td>0</td>\n",
       "      <td>61</td>\n",
       "      <td>Some College or Vocational School</td>\n",
       "      <td>1</td>\n",
       "      <td>30.0</td>\n",
       "      <td>0</td>\n",
       "      <td>0</td>\n",
       "      <td>1</td>\n",
       "      <td>0</td>\n",
       "      <td>225.0</td>\n",
       "      <td>150.0</td>\n",
       "      <td>95.0</td>\n",
       "      <td>28.58</td>\n",
       "      <td>65.0</td>\n",
       "      <td>103.0</td>\n",
       "      <td>1</td>\n",
       "    </tr>\n",
       "    <tr>\n",
       "      <th>4</th>\n",
       "      <td>0</td>\n",
       "      <td>46</td>\n",
       "      <td>Some College or Vocational School</td>\n",
       "      <td>1</td>\n",
       "      <td>23.0</td>\n",
       "      <td>0</td>\n",
       "      <td>0</td>\n",
       "      <td>0</td>\n",
       "      <td>0</td>\n",
       "      <td>285.0</td>\n",
       "      <td>130.0</td>\n",
       "      <td>84.0</td>\n",
       "      <td>23.10</td>\n",
       "      <td>85.0</td>\n",
       "      <td>85.0</td>\n",
       "      <td>0</td>\n",
       "    </tr>\n",
       "  </tbody>\n",
       "</table>\n",
       "</div>"
      ],
      "text/plain": [
       "  male  age                          education current_smoker  cigs_per_day  \\\n",
       "0    1   39                            College              0           0.0   \n",
       "1    0   46                 High School or GED              0           0.0   \n",
       "2    1   48                   Some High School              1          20.0   \n",
       "3    0   61  Some College or Vocational School              1          30.0   \n",
       "4    0   46  Some College or Vocational School              1          23.0   \n",
       "\n",
       "  bp_meds prevalent_stroke prevalent_hyper diabetes  total_chol  sys_bp  \\\n",
       "0       0                0               0        0       195.0   106.0   \n",
       "1       0                0               0        0       250.0   121.0   \n",
       "2       0                0               0        0       245.0   127.5   \n",
       "3       0                0               1        0       225.0   150.0   \n",
       "4       0                0               0        0       285.0   130.0   \n",
       "\n",
       "   dia_bp    bmi  heart_rate  glucose ten_year_chd  \n",
       "0    70.0  26.97        80.0     77.0            0  \n",
       "1    81.0  28.73        95.0     76.0            0  \n",
       "2    80.0  25.34        75.0     70.0            0  \n",
       "3    95.0  28.58        65.0    103.0            1  \n",
       "4    84.0  23.10        85.0     85.0            0  "
      ]
     },
     "execution_count": 3,
     "metadata": {},
     "output_type": "execute_result"
    }
   ],
   "source": [
    "heart_df = pd.read_csv('../data/Framingham.csv', engine = 'python')\n",
    "heart_df = heart_df.dropna(axis = 0)\n",
    "\n",
    "heart_df['male'] = heart_df['male'].astype('category')\n",
    "heart_df['education'] = heart_df['education'].astype('category')\n",
    "heart_df['current_smoker'] = heart_df['current_smoker'].astype(int).astype('category')\n",
    "heart_df['bp_meds'] = heart_df['bp_meds'].astype(int).astype('category')\n",
    "heart_df['prevalent_stroke'] = heart_df['prevalent_stroke'].astype(int).astype('category')\n",
    "heart_df['prevalent_hyper'] = heart_df['prevalent_hyper'].astype(int).astype('category')\n",
    "heart_df['diabetes'] = heart_df['diabetes'].astype(int).astype('category')\n",
    "heart_df['ten_year_chd'] = heart_df['ten_year_chd'].astype(int).astype('category')\n",
    "\n",
    "heart_df.head()"
   ]
  },
  {
   "cell_type": "code",
   "execution_count": 4,
   "metadata": {},
   "outputs": [],
   "source": [
    "full_df = heart_df\n",
    "\n",
    "full_ddf = pd.get_dummies(full_df['education'], drop_first = True, prefix = 'edu:')\n",
    "full_ddf = pd.concat([full_ddf, full_df[['male', 'current_smoker', 'bp_meds', 'prevalent_stroke', \n",
    "                                         'prevalent_hyper', 'diabetes']]], axis = 1)\n",
    "\n",
    "full_df = full_df.drop(['education', 'male', 'current_smoker', 'bp_meds', 'prevalent_stroke', \n",
    "                        'prevalent_hyper', 'diabetes'], axis = 1)\n",
    "\n",
    "c = pd.DataFrame(full_df['ten_year_chd']).reset_index(drop = True)\n",
    "\n",
    "full_df = full_df.drop('ten_year_chd', axis = 1)\n",
    "\n",
    "def featureNormalize(X):\n",
    "    return (X - np.mean(X, axis = 0)) / np.std(X, axis = 0, ddof = 1)\n",
    "\n",
    "X = pd.concat([featureNormalize(full_df), full_ddf], axis = 1).reset_index(drop = True)"
   ]
  },
  {
   "cell_type": "code",
   "execution_count": 5,
   "metadata": {},
   "outputs": [],
   "source": [
    "X_train = X.sample(random_state = 42, frac = 0.7).sort_index()\n",
    "c_train = c[X.index.isin(X_train.index)]\n",
    "X_test = X[~X.index.isin(X_train.index)]\n",
    "c_test = c[~X.index.isin(X_train.index)]"
   ]
  },
  {
   "cell_type": "markdown",
   "metadata": {},
   "source": [
    "### k-NN Classification"
   ]
  },
  {
   "cell_type": "code",
   "execution_count": 6,
   "metadata": {},
   "outputs": [],
   "source": [
    "knnc_k_arr = list(range(1, 21))\n",
    "\n",
    "knnc = GridSearchCV(KNeighborsClassifier(), \n",
    "                    param_grid = {'n_neighbors' : knnc_k_arr}, \n",
    "                    cv = 5, scoring = mcc, return_train_score = True)\n",
    "\n",
    "knnc.fit(X_train.values, c_train.values.ravel())\n",
    "\n",
    "knnc_df = pd.DataFrame(knnc.cv_results_)"
   ]
  },
  {
   "cell_type": "code",
   "execution_count": 7,
   "metadata": {},
   "outputs": [
    {
     "data": {
      "image/png": "[encoded data removed]",
      "text/plain": [
       "<Figure size 432x288 with 1 Axes>"
      ]
     },
     "metadata": {
      "needs_background": "light"
     },
     "output_type": "display_data"
    }
   ],
   "source": [
    "plt.plot(knnc_df['param_n_neighbors'], knnc_df['mean_train_score'], c = 'b', label = 'Train')\n",
    "plt.plot(knnc_df['param_n_neighbors'], knnc_df['mean_test_score'], c = 'r', label = 'Cross Validation')\n",
    "plt.legend(loc = 1)\n",
    "plt.xlabel('k')\n",
    "plt.ylabel('MCC')\n",
    "plt.title('Train and CV MCC vs k')\n",
    "plt.show()"
   ]
  },
  {
   "cell_type": "code",
   "execution_count": 8,
   "metadata": {},
   "outputs": [
    {
     "name": "stdout",
     "output_type": "stream",
     "text": [
      "Best Parameters: {'n_neighbors': 5}\n",
      "Best Cross-Validation MCC: 0.17\n"
     ]
    },
    {
     "data": {
      "image/png": "[encoded data removed]",
      "text/plain": [
       "<Figure size 432x288 with 1 Axes>"
      ]
     },
     "metadata": {
      "needs_background": "light"
     },
     "output_type": "display_data"
    },
    {
     "data": {
      "image/png": "[encoded data removed]",
      "text/plain": [
       "<Figure size 432x288 with 1 Axes>"
      ]
     },
     "metadata": {
      "needs_background": "light"
     },
     "output_type": "display_data"
    },
    {
     "name": "stdout",
     "output_type": "stream",
     "text": [
      "Accuracy: 0.53\n",
      "Sensitivity: 0.74\n",
      "Specificity: 0.50\n"
     ]
    }
   ],
   "source": [
    "print('Best Parameters: {}'.format(knnc.best_params_))\n",
    "print('Best Cross-Validation MCC: {:.2f}'.format(knnc.best_score_))\n",
    "\n",
    "pred_knnc = (knnc.predict_proba(X_test)[:,1] >= 0.12).astype(bool)\n",
    "\n",
    "plot_roc_curve(knnc, X_test, c_test)\n",
    "plt.title('ROC Curve')\n",
    "plt.show()\n",
    "\n",
    "cm_knnc = confusion_matrix(c_test, pred_knnc)\n",
    "tn, fp, fn, tp = cm_knnc.ravel()\n",
    "\n",
    "ax = sns.heatmap(cm_knnc.T, square = True, annot = True, fmt = 'd', cbar = False, cmap = 'Greens')\n",
    "ax.set(xlabel = 'Actual', ylabel = 'Predicted', title = 'Confusion Matrix')\n",
    "plt.show()\n",
    "\n",
    "print('Accuracy: {:.2f}'.format(accuracy_score(c_test, pred_knnc)))\n",
    "print('Sensitivity: {:.2f}'.format(tp / (tp + fn)))\n",
    "print('Specificity: {:.2f}'.format(tn / (tn + fp)))"
   ]
  },
  {
   "cell_type": "markdown",
   "metadata": {},
   "source": [
    "### ANN Classification"
   ]
  },
  {
   "cell_type": "markdown",
   "metadata": {},
   "source": [
    "#### Model 1: Hyperparameters: Batch size and # of Epochs"
   ]
  },
  {
   "cell_type": "code",
   "execution_count": 9,
   "metadata": {},
   "outputs": [],
   "source": [
    "def create_model1():\n",
    "    model = Sequential()\n",
    "    model.add(Input(shape=(17, )))\n",
    "    model.add(Dense(5, activation = 'sigmoid'))\n",
    "    model.add(Dense(1, activation = 'sigmoid'))\n",
    "    model.compile(loss = 'binary_crossentropy', optimizer = 'sgd', metrics = [matthews_correlation])\n",
    "    return model"
   ]
  },
  {
   "cell_type": "code",
   "execution_count": 10,
   "metadata": {},
   "outputs": [
    {
     "name": "stdout",
     "output_type": "stream",
     "text": [
      "WARNING:tensorflow:Please add `keras.layers.InputLayer` instead of `keras.Input` to Sequential model. `keras.Input` is intended to be used by Functional model.\n",
      "WARNING:tensorflow:From C:\\Users\\krish\\anaconda3\\lib\\site-packages\\tensorflow\\python\\ops\\array_ops.py:5043: calling gather (from tensorflow.python.ops.array_ops) with validate_indices is deprecated and will be removed in a future version.\n",
      "Instructions for updating:\n",
      "The `validate_indices` argument has no effect. Indices are always validated on CPU and never validated on GPU.\n"
     ]
    }
   ],
   "source": [
    "nnc1_model = KerasClassifier(build_fn = create_model1, verbose = 0)\n",
    "\n",
    "nnc1_batch_size_arr = [10, 20, 50]\n",
    "nnc1_epoch_arr = [10, 50, 100]\n",
    "\n",
    "nnc1 = GridSearchCV(estimator = nnc1_model, \n",
    "                    param_grid = {'batch_size' : nnc1_batch_size_arr, \n",
    "                                  'epochs' : nnc1_epoch_arr}, \n",
    "                    n_jobs = -1, scoring = mcc, cv = 5, return_train_score = True)\n",
    "\n",
    "nnc1.fit(X_train.values.astype('float64'), c_train.values.ravel(), class_weight = {0: 15.34, 1: 84.77})\n",
    "\n",
    "nnc1_df = pd.DataFrame(nnc1.cv_results_)"
   ]
  },
  {
   "cell_type": "code",
   "execution_count": 11,
   "metadata": {},
   "outputs": [
    {
     "name": "stdout",
     "output_type": "stream",
     "text": [
      "Best Parameters: {'batch_size': 50, 'epochs': 10}\n",
      "Best Cross-Validation MCC: 0.25\n"
     ]
    },
    {
     "data": {
      "image/png": "[encoded data removed]",
      "text/plain": [
       "<Figure size 432x288 with 1 Axes>"
      ]
     },
     "metadata": {
      "needs_background": "light"
     },
     "output_type": "display_data"
    },
    {
     "name": "stdout",
     "output_type": "stream",
     "text": [
      "Accuracy: 0.57\n",
      "Sensitivity: 0.79\n",
      "Specificity: 0.54\n"
     ]
    }
   ],
   "source": [
    "print('Best Parameters: {}'.format(nnc1.best_params_))\n",
    "print('Best Cross-Validation MCC: {:.2f}'.format(nnc1.best_score_))\n",
    "\n",
    "pred_nnc1 = nnc1.predict(X_test.values.astype('float64'))\n",
    "\n",
    "# plot_roc_curve(nnc1, X_test, c_test)\n",
    "# plt.title('ROC Curve')\n",
    "# plt.show()\n",
    "\n",
    "cm_nnc1 = confusion_matrix(c_test, pred_nnc1)\n",
    "tn, fp, fn, tp = cm_nnc1.ravel()\n",
    "\n",
    "ax = sns.heatmap(cm_nnc1.T, square = True, annot = True, fmt = 'd', cbar = False, cmap = 'Greens')\n",
    "ax.set(xlabel = 'Actual', ylabel = 'Predicted', title = 'Confusion Matrix')\n",
    "plt.show()\n",
    "\n",
    "print('Accuracy: {:.2f}'.format(accuracy_score(c_test, pred_nnc1)))\n",
    "print('Sensitivity: {:.2f}'.format(tp / (tp + fn)))\n",
    "print('Specificity: {:.2f}'.format(tn / (tn + fp)))"
   ]
  },
  {
   "cell_type": "markdown",
   "metadata": {},
   "source": [
    "#### Model 2: Activation Function of the 1st hidden layer nodes"
   ]
  },
  {
   "cell_type": "code",
   "execution_count": 12,
   "metadata": {},
   "outputs": [],
   "source": [
    "def create_model2(activation = 'sigmoid'):\n",
    "    model = Sequential()\n",
    "    model.add(Input(shape=(17, )))\n",
    "    model.add(Dense(5, activation = activation))\n",
    "    model.add(Dense(1, activation = 'sigmoid'))\n",
    "    model.compile(loss = 'binary_crossentropy', optimizer = 'sgd', metrics = [matthews_correlation])\n",
    "    return model"
   ]
  },
  {
   "cell_type": "code",
   "execution_count": 13,
   "metadata": {},
   "outputs": [
    {
     "name": "stdout",
     "output_type": "stream",
     "text": [
      "WARNING:tensorflow:Please add `keras.layers.InputLayer` instead of `keras.Input` to Sequential model. `keras.Input` is intended to be used by Functional model.\n"
     ]
    }
   ],
   "source": [
    "nnc2_model = KerasClassifier(build_fn = create_model2, batch_size = 50, epochs = 10, verbose = 0)\n",
    "\n",
    "nnc2_activation_arr = ['linear', 'relu', 'sigmoid', 'tanh']\n",
    "\n",
    "nnc2 = GridSearchCV(estimator = nnc2_model, \n",
    "                    param_grid = {'activation' : nnc2_activation_arr}, \n",
    "                    n_jobs = -1, scoring = mcc, cv = 5, return_train_score = True)\n",
    "\n",
    "nnc2.fit(X_train.values.astype('float64'), c_train.values.ravel(), class_weight = {0: 15.34, 1: 84.77})\n",
    "\n",
    "nnc2_df = pd.DataFrame(nnc2.cv_results_)"
   ]
  },
  {
   "cell_type": "code",
   "execution_count": 14,
   "metadata": {},
   "outputs": [
    {
     "data": {
      "text/html": [
       "<div>\n",
       "<style scoped>\n",
       "    .dataframe tbody tr th:only-of-type {\n",
       "        vertical-align: middle;\n",
       "    }\n",
       "\n",
       "    .dataframe tbody tr th {\n",
       "        vertical-align: top;\n",
       "    }\n",
       "\n",
       "    .dataframe thead th {\n",
       "        text-align: right;\n",
       "    }\n",
       "</style>\n",
       "<table border=\"1\" class=\"dataframe\">\n",
       "  <thead>\n",
       "    <tr style=\"text-align: right;\">\n",
       "      <th></th>\n",
       "      <th>param_activation</th>\n",
       "      <th>mean_train_score</th>\n",
       "      <th>mean_test_score</th>\n",
       "    </tr>\n",
       "  </thead>\n",
       "  <tbody>\n",
       "    <tr>\n",
       "      <th>0</th>\n",
       "      <td>linear</td>\n",
       "      <td>0.264263</td>\n",
       "      <td>0.246472</td>\n",
       "    </tr>\n",
       "    <tr>\n",
       "      <th>1</th>\n",
       "      <td>relu</td>\n",
       "      <td>0.277367</td>\n",
       "      <td>0.227852</td>\n",
       "    </tr>\n",
       "    <tr>\n",
       "      <th>2</th>\n",
       "      <td>sigmoid</td>\n",
       "      <td>0.260693</td>\n",
       "      <td>0.235796</td>\n",
       "    </tr>\n",
       "    <tr>\n",
       "      <th>3</th>\n",
       "      <td>tanh</td>\n",
       "      <td>0.276019</td>\n",
       "      <td>0.233720</td>\n",
       "    </tr>\n",
       "  </tbody>\n",
       "</table>\n",
       "</div>"
      ],
      "text/plain": [
       "  param_activation  mean_train_score  mean_test_score\n",
       "0           linear          0.264263         0.246472\n",
       "1             relu          0.277367         0.227852\n",
       "2          sigmoid          0.260693         0.235796\n",
       "3             tanh          0.276019         0.233720"
      ]
     },
     "execution_count": 14,
     "metadata": {},
     "output_type": "execute_result"
    }
   ],
   "source": [
    "nnc2_df[['param_activation', 'mean_train_score', 'mean_test_score']]"
   ]
  },
  {
   "cell_type": "code",
   "execution_count": 15,
   "metadata": {},
   "outputs": [
    {
     "name": "stdout",
     "output_type": "stream",
     "text": [
      "Best Parameters: {'activation': 'linear'}\n",
      "Best Cross-Validation MCC: 0.25\n"
     ]
    },
    {
     "data": {
      "image/png": "[encoded data removed]",
      "text/plain": [
       "<Figure size 432x288 with 1 Axes>"
      ]
     },
     "metadata": {
      "needs_background": "light"
     },
     "output_type": "display_data"
    },
    {
     "name": "stdout",
     "output_type": "stream",
     "text": [
      "Accuracy: 0.61\n",
      "Sensitivity: 0.72\n",
      "Specificity: 0.59\n"
     ]
    }
   ],
   "source": [
    "print('Best Parameters: {}'.format(nnc2.best_params_))\n",
    "print('Best Cross-Validation MCC: {:.2f}'.format(nnc2.best_score_))\n",
    "\n",
    "pred_nnc2 = nnc2.predict(X_test.values.astype('float64'))\n",
    "\n",
    "# plot_roc_curve(nnc2, X_test, c_test)\n",
    "# plt.title('ROC Curve')\n",
    "# plt.show()\n",
    "\n",
    "cm_nnc2 = confusion_matrix(c_test, pred_nnc2)\n",
    "tn, fp, fn, tp = cm_nnc2.ravel()\n",
    "\n",
    "ax = sns.heatmap(cm_nnc2.T, square = True, annot = True, fmt = 'd', cbar = False, cmap = 'Greens')\n",
    "ax.set(xlabel = 'Actual', ylabel = 'Predicted', title = 'Confusion Matrix')\n",
    "plt.show()\n",
    "\n",
    "print('Accuracy: {:.2f}'.format(accuracy_score(c_test, pred_nnc2)))\n",
    "print('Sensitivity: {:.2f}'.format(tp / (tp + fn)))\n",
    "print('Specificity: {:.2f}'.format(tn / (tn + fp)))"
   ]
  },
  {
   "cell_type": "markdown",
   "metadata": {},
   "source": [
    "#### Model 3: Learning Rate and Momentum of the 1st hidden layer nodes"
   ]
  },
  {
   "cell_type": "code",
   "execution_count": 16,
   "metadata": {},
   "outputs": [],
   "source": [
    "def create_model3(learn_rate = 0.01, momentum = 0.0):\n",
    "    model = Sequential()\n",
    "    model.add(Input(shape=(17, )))\n",
    "    model.add(Dense(5, activation = 'linear'))\n",
    "    model.add(Dense(1, activation = 'sigmoid'))\n",
    "    optimizer = SGD(lr = learn_rate, momentum = momentum)\n",
    "    model.compile(loss = 'binary_crossentropy', optimizer = optimizer, metrics = [matthews_correlation])\n",
    "    return model"
   ]
  },
  {
   "cell_type": "code",
   "execution_count": 17,
   "metadata": {},
   "outputs": [
    {
     "name": "stdout",
     "output_type": "stream",
     "text": [
      "WARNING:tensorflow:Please add `keras.layers.InputLayer` instead of `keras.Input` to Sequential model. `keras.Input` is intended to be used by Functional model.\n"
     ]
    }
   ],
   "source": [
    "nnc3_model = KerasClassifier(build_fn = create_model3, batch_size = 50, epochs = 10, verbose = 0)\n",
    "\n",
    "nnc3_learn_rate_arr = [0.001, 0.01, 0.1, 0.2, 0.5]\n",
    "nnc3_momentum_arr = [0.0, 0.1, 0.2, 0.5, 0.9]\n",
    "\n",
    "nnc3 = GridSearchCV(estimator = nnc3_model, \n",
    "                    param_grid = {'learn_rate' : nnc3_learn_rate_arr,\n",
    "                                  'momentum' : nnc3_momentum_arr}, \n",
    "                    n_jobs = -1, scoring = mcc, cv = 5, return_train_score = True)\n",
    "\n",
    "nnc3.fit(X_train.values.astype('float64'), c_train.values.ravel(), class_weight = {0: 15.34, 1: 84.77})\n",
    "\n",
    "nnc3_df = pd.DataFrame(nnc3.cv_results_)"
   ]
  },
  {
   "cell_type": "code",
   "execution_count": 18,
   "metadata": {},
   "outputs": [
    {
     "data": {
      "image/png": "[encoded data removed]",
      "text/plain": [
       "<Figure size 432x288 with 2 Axes>"
      ]
     },
     "metadata": {
      "needs_background": "light"
     },
     "output_type": "display_data"
    },
    {
     "data": {
      "image/png": "[encoded data removed]",
      "text/plain": [
       "<Figure size 432x288 with 2 Axes>"
      ]
     },
     "metadata": {
      "needs_background": "light"
     },
     "output_type": "display_data"
    }
   ],
   "source": [
    "nnc3_train_err_mat = nnc3_df['mean_train_score'].values.reshape(len(nnc3_learn_rate_arr), len(nnc3_momentum_arr))\n",
    "ax = sns.heatmap(pd.DataFrame(nnc3_train_err_mat, columns = nnc3_momentum_arr, index = nnc3_learn_rate_arr).iloc[::-1], \n",
    "                 annot = True, cmap = 'Greens')\n",
    "ax.set(xlabel = 'Momentum', ylabel = 'Learning Rate', title = 'Train MCC vs Tuning Parameters')\n",
    "plt.show()\n",
    "\n",
    "nnc3_cv_err_mat = nnc3_df['mean_test_score'].values.reshape(len(nnc3_learn_rate_arr), len(nnc3_momentum_arr))\n",
    "ax = sns.heatmap(pd.DataFrame(nnc3_cv_err_mat, columns = nnc3_momentum_arr, index = nnc3_learn_rate_arr).iloc[::-1], \n",
    "                 annot = True, cmap = 'Greens')\n",
    "ax.set(xlabel = 'Momentum', ylabel = 'Learning Rate', title = 'CV MCC vs Tuning Parameters')\n",
    "plt.show()"
   ]
  },
  {
   "cell_type": "code",
   "execution_count": 19,
   "metadata": {},
   "outputs": [
    {
     "name": "stdout",
     "output_type": "stream",
     "text": [
      "Best Parameters: {'learn_rate': 0.01, 'momentum': 0.2}\n",
      "Best Cross-Validation MCC: 0.25\n"
     ]
    },
    {
     "data": {
      "image/png": "[encoded data removed]",
      "text/plain": [
       "<Figure size 432x288 with 1 Axes>"
      ]
     },
     "metadata": {
      "needs_background": "light"
     },
     "output_type": "display_data"
    },
    {
     "name": "stdout",
     "output_type": "stream",
     "text": [
      "Accuracy: 0.60\n",
      "Sensitivity: 0.76\n",
      "Specificity: 0.57\n"
     ]
    }
   ],
   "source": [
    "print('Best Parameters: {}'.format(nnc3.best_params_))\n",
    "print('Best Cross-Validation MCC: {:.2f}'.format(nnc3.best_score_))\n",
    "\n",
    "pred_nnc3 = nnc3.predict(X_test.values.astype('float64'))\n",
    "\n",
    "# plot_roc_curve(nnc3, X_test, c_test)\n",
    "# plt.title('ROC Curve')\n",
    "# plt.show()\n",
    "\n",
    "cm_nnc3 = confusion_matrix(c_test, pred_nnc3)\n",
    "tn, fp, fn, tp = cm_nnc3.ravel()\n",
    "\n",
    "ax = sns.heatmap(cm_nnc3.T, square = True, annot = True, fmt = 'd', cbar = False, cmap = 'Greens')\n",
    "ax.set(xlabel = 'Actual', ylabel = 'Predicted', title = 'Confusion Matrix')\n",
    "plt.show()\n",
    "\n",
    "print('Accuracy: {:.2f}'.format(accuracy_score(c_test, pred_nnc3)))\n",
    "print('Sensitivity: {:.2f}'.format(tp / (tp + fn)))\n",
    "print('Specificity: {:.2f}'.format(tn / (tn + fp)))"
   ]
  },
  {
   "cell_type": "markdown",
   "metadata": {},
   "source": [
    "#### Model 4: Drop-out Rate and Weight Constraint of the 1st hidden layer nodes"
   ]
  },
  {
   "cell_type": "code",
   "execution_count": 20,
   "metadata": {},
   "outputs": [],
   "source": [
    "def create_model4(dropout_rate = 0.0, weight_constraint = 0):\n",
    "    model = Sequential()\n",
    "    model.add(Input(shape=(17, )))\n",
    "    model.add(Dense(5, activation = 'linear', kernel_constraint = maxnorm(weight_constraint)))\n",
    "    model.add(Dropout(dropout_rate))\n",
    "    model.add(Dense(1, activation = 'sigmoid'))\n",
    "    optimizer = SGD(lr = 0.01, momentum = 0.2)\n",
    "    model.compile(loss = 'binary_crossentropy', optimizer = optimizer, metrics = [matthews_correlation])\n",
    "    return model"
   ]
  },
  {
   "cell_type": "code",
   "execution_count": 21,
   "metadata": {},
   "outputs": [
    {
     "name": "stdout",
     "output_type": "stream",
     "text": [
      "WARNING:tensorflow:Please add `keras.layers.InputLayer` instead of `keras.Input` to Sequential model. `keras.Input` is intended to be used by Functional model.\n"
     ]
    }
   ],
   "source": [
    "nnc4_model = KerasClassifier(build_fn = create_model4, batch_size = 50, epochs = 10, verbose = 0)\n",
    "\n",
    "nnc4_wgt_constraint_arr = [0, 1, 2, 3, 4, 5]\n",
    "nnc4_dropout_rate_arr = [0.0, 0.1, 0.2, 0.5, 0.9]\n",
    "\n",
    "nnc4 = GridSearchCV(estimator = nnc4_model, \n",
    "                    param_grid = {'weight_constraint' : nnc4_wgt_constraint_arr,\n",
    "                                  'dropout_rate' : nnc4_dropout_rate_arr}, \n",
    "                    n_jobs = -1, scoring = mcc, cv = 5, return_train_score = True)\n",
    "\n",
    "nnc4.fit(X_train.values.astype('float64'), c_train.values.ravel(), class_weight = {0: 15.34, 1: 84.77})\n",
    "\n",
    "nnc4_df = pd.DataFrame(nnc4.cv_results_)"
   ]
  },
  {
   "cell_type": "code",
   "execution_count": 22,
   "metadata": {},
   "outputs": [
    {
     "data": {
      "image/png": "[encoded data removed]",
      "text/plain": [
       "<Figure size 432x288 with 2 Axes>"
      ]
     },
     "metadata": {
      "needs_background": "light"
     },
     "output_type": "display_data"
    },
    {
     "data": {
      "image/png": "[encoded data removed]",
      "text/plain": [
       "<Figure size 432x288 with 2 Axes>"
      ]
     },
     "metadata": {
      "needs_background": "light"
     },
     "output_type": "display_data"
    }
   ],
   "source": [
    "nnc4_train_err_mat = nnc4_df['mean_train_score'].values.reshape(len(nnc4_wgt_constraint_arr), len(nnc4_dropout_rate_arr))\n",
    "ax = sns.heatmap(pd.DataFrame(nnc4_train_err_mat, columns = nnc4_dropout_rate_arr, \n",
    "                              index = nnc4_wgt_constraint_arr).iloc[::-1], annot = True, cmap = 'Greens')\n",
    "ax.set(xlabel = 'Drop-out Rate', ylabel = 'Max Norm Weight', title = 'Train MCC vs Tuning Parameters')\n",
    "plt.show()\n",
    "\n",
    "nnc4_cv_err_mat = nnc4_df['mean_test_score'].values.reshape(len(nnc4_wgt_constraint_arr), len(nnc4_dropout_rate_arr))\n",
    "ax = sns.heatmap(pd.DataFrame(nnc4_cv_err_mat, columns = nnc4_dropout_rate_arr, \n",
    "                              index = nnc4_wgt_constraint_arr).iloc[::-1], annot = True, cmap = 'Greens')\n",
    "ax.set(xlabel = 'Drop-out Rate', ylabel = 'Max Norm Weight', title = 'Test MCC vs Tuning Parameters')\n",
    "plt.show()"
   ]
  },
  {
   "cell_type": "code",
   "execution_count": 23,
   "metadata": {},
   "outputs": [
    {
     "name": "stdout",
     "output_type": "stream",
     "text": [
      "Best Parameters: {'dropout_rate': 0.2, 'weight_constraint': 2}\n",
      "Best Cross-Validation Accuracy: 0.26\n"
     ]
    },
    {
     "data": {
      "image/png": "[encoded data removed]",
      "text/plain": [
       "<Figure size 432x288 with 1 Axes>"
      ]
     },
     "metadata": {
      "needs_background": "light"
     },
     "output_type": "display_data"
    },
    {
     "name": "stdout",
     "output_type": "stream",
     "text": [
      "Accuracy: 0.64\n",
      "Sensitivity: 0.74\n",
      "Specificity: 0.63\n"
     ]
    }
   ],
   "source": [
    "print('Best Parameters: {}'.format(nnc4.best_params_))\n",
    "print('Best Cross-Validation Accuracy: {:.2f}'.format(nnc4.best_score_))\n",
    "\n",
    "pred_nnc4 = nnc4.predict(X_test.values.astype('float64'))\n",
    "\n",
    "# plot_roc_curve(nnc4, X_test, c_test)\n",
    "# plt.title('ROC Curve')\n",
    "# plt.show()\n",
    "\n",
    "cm_nnc4 = confusion_matrix(c_test, pred_nnc4)\n",
    "tn, fp, fn, tp = cm_nnc4.ravel()\n",
    "\n",
    "ax = sns.heatmap(cm_nnc4.T, square = True, annot = True, fmt = 'd', cbar = False, cmap = 'Greens')\n",
    "ax.set(xlabel = 'Actual', ylabel = 'Predicted', title = 'Confusion Matrix')\n",
    "plt.show()\n",
    "\n",
    "print('Accuracy: {:.2f}'.format(accuracy_score(c_test, pred_nnc4)))\n",
    "print('Sensitivity: {:.2f}'.format(tp / (tp + fn)))\n",
    "print('Specificity: {:.2f}'.format(tn / (tn + fp)))"
   ]
  },
  {
   "cell_type": "markdown",
   "metadata": {},
   "source": [
    "#### Model 5: # of Neurons in the 1st hidden layer"
   ]
  },
  {
   "cell_type": "code",
   "execution_count": 24,
   "metadata": {},
   "outputs": [],
   "source": [
    "def create_model5(neurons = 0):\n",
    "    model = Sequential()\n",
    "    model.add(Input(shape=(17, )))\n",
    "    model.add(Dense(neurons, activation = 'linear', kernel_constraint = maxnorm(2)))\n",
    "    model.add(Dropout(0.2))\n",
    "    model.add(Dense(1, activation = 'sigmoid'))\n",
    "    optimizer = SGD(lr = 0.01, momentum = 0.2)\n",
    "    model.compile(loss = 'binary_crossentropy', optimizer = optimizer, metrics = [matthews_correlation])\n",
    "    return model"
   ]
  },
  {
   "cell_type": "code",
   "execution_count": 25,
   "metadata": {},
   "outputs": [
    {
     "name": "stdout",
     "output_type": "stream",
     "text": [
      "WARNING:tensorflow:Please add `keras.layers.InputLayer` instead of `keras.Input` to Sequential model. `keras.Input` is intended to be used by Functional model.\n"
     ]
    }
   ],
   "source": [
    "nnc5_model = KerasClassifier(build_fn = create_model5, batch_size = 50, epochs = 10, verbose = 0)\n",
    "\n",
    "nnc5_neuron_arr = [1, 5, 10, 15, 20, 25, 30]\n",
    "\n",
    "nnc5 = GridSearchCV(estimator = nnc5_model, \n",
    "                    param_grid = {'neurons' : nnc5_neuron_arr}, \n",
    "                    n_jobs = -1, scoring = mcc, cv = 5, return_train_score = True)\n",
    "\n",
    "nnc5.fit(X_train.values.astype('float64'), c_train.values.ravel(), class_weight = {0: 15.34, 1: 84.77})\n",
    "\n",
    "nnc5_df = pd.DataFrame(nnc5.cv_results_)"
   ]
  },
  {
   "cell_type": "code",
   "execution_count": 26,
   "metadata": {},
   "outputs": [
    {
     "data": {
      "text/html": [
       "<div>\n",
       "<style scoped>\n",
       "    .dataframe tbody tr th:only-of-type {\n",
       "        vertical-align: middle;\n",
       "    }\n",
       "\n",
       "    .dataframe tbody tr th {\n",
       "        vertical-align: top;\n",
       "    }\n",
       "\n",
       "    .dataframe thead th {\n",
       "        text-align: right;\n",
       "    }\n",
       "</style>\n",
       "<table border=\"1\" class=\"dataframe\">\n",
       "  <thead>\n",
       "    <tr style=\"text-align: right;\">\n",
       "      <th></th>\n",
       "      <th>param_neurons</th>\n",
       "      <th>mean_train_score</th>\n",
       "      <th>mean_test_score</th>\n",
       "    </tr>\n",
       "  </thead>\n",
       "  <tbody>\n",
       "    <tr>\n",
       "      <th>0</th>\n",
       "      <td>1</td>\n",
       "      <td>0.260579</td>\n",
       "      <td>0.237628</td>\n",
       "    </tr>\n",
       "    <tr>\n",
       "      <th>1</th>\n",
       "      <td>5</td>\n",
       "      <td>0.264919</td>\n",
       "      <td>0.234425</td>\n",
       "    </tr>\n",
       "    <tr>\n",
       "      <th>2</th>\n",
       "      <td>10</td>\n",
       "      <td>0.268057</td>\n",
       "      <td>0.230486</td>\n",
       "    </tr>\n",
       "    <tr>\n",
       "      <th>3</th>\n",
       "      <td>15</td>\n",
       "      <td>0.263449</td>\n",
       "      <td>0.240203</td>\n",
       "    </tr>\n",
       "    <tr>\n",
       "      <th>4</th>\n",
       "      <td>20</td>\n",
       "      <td>0.268890</td>\n",
       "      <td>0.250125</td>\n",
       "    </tr>\n",
       "    <tr>\n",
       "      <th>5</th>\n",
       "      <td>25</td>\n",
       "      <td>0.260944</td>\n",
       "      <td>0.238977</td>\n",
       "    </tr>\n",
       "    <tr>\n",
       "      <th>6</th>\n",
       "      <td>30</td>\n",
       "      <td>0.270872</td>\n",
       "      <td>0.228097</td>\n",
       "    </tr>\n",
       "  </tbody>\n",
       "</table>\n",
       "</div>"
      ],
      "text/plain": [
       "  param_neurons  mean_train_score  mean_test_score\n",
       "0             1          0.260579         0.237628\n",
       "1             5          0.264919         0.234425\n",
       "2            10          0.268057         0.230486\n",
       "3            15          0.263449         0.240203\n",
       "4            20          0.268890         0.250125\n",
       "5            25          0.260944         0.238977\n",
       "6            30          0.270872         0.228097"
      ]
     },
     "execution_count": 26,
     "metadata": {},
     "output_type": "execute_result"
    }
   ],
   "source": [
    "nnc5_df[['param_neurons', 'mean_train_score', 'mean_test_score']]"
   ]
  },
  {
   "cell_type": "code",
   "execution_count": 27,
   "metadata": {},
   "outputs": [
    {
     "name": "stdout",
     "output_type": "stream",
     "text": [
      "Best Parameters: {'neurons': 20}\n",
      "Best Cross-Validation Accuracy: 0.25\n"
     ]
    },
    {
     "data": {
      "image/png": "[encoded data removed]",
      "text/plain": [
       "<Figure size 432x288 with 1 Axes>"
      ]
     },
     "metadata": {
      "needs_background": "light"
     },
     "output_type": "display_data"
    },
    {
     "name": "stdout",
     "output_type": "stream",
     "text": [
      "Accuracy: 0.60\n",
      "Sensitivity: 0.75\n",
      "Specificity: 0.57\n"
     ]
    }
   ],
   "source": [
    "print('Best Parameters: {}'.format(nnc5.best_params_))\n",
    "print('Best Cross-Validation Accuracy: {:.2f}'.format(nnc5.best_score_))\n",
    "\n",
    "pred_nnc5 = nnc5.predict(X_test.values.astype('float64'))\n",
    "\n",
    "# plot_roc_curve(nnc5, X_test, c_test)\n",
    "# plt.title('ROC Curve')\n",
    "# plt.show()\n",
    "\n",
    "cm_nnc5 = confusion_matrix(c_test, pred_nnc5)\n",
    "tn, fp, fn, tp = cm_nnc5.ravel()\n",
    "\n",
    "ax = sns.heatmap(cm_nnc5.T, square = True, annot = True, fmt = 'd', cbar = False, cmap = 'Greens')\n",
    "ax.set(xlabel = 'Actual', ylabel = 'Predicted', title = 'Confusion Matrix')\n",
    "plt.show()\n",
    "\n",
    "print('Accuracy: {:.2f}'.format(accuracy_score(c_test, pred_nnc5)))\n",
    "print('Sensitivity: {:.2f}'.format(tp / (tp + fn)))\n",
    "print('Specificity: {:.2f}'.format(tn / (tn + fp)))"
   ]
  },
  {
   "cell_type": "markdown",
   "metadata": {},
   "source": [
    "#### Model 6: # of Neurons in the 2nd hidden layer"
   ]
  },
  {
   "cell_type": "code",
   "execution_count": 28,
   "metadata": {},
   "outputs": [],
   "source": [
    "def create_model6(neurons = 0):\n",
    "    model = Sequential()\n",
    "    model.add(Input(shape=(17, )))\n",
    "    model.add(Dense(20, activation = 'linear', kernel_constraint = maxnorm(2)))\n",
    "    model.add(Dropout(0.2))\n",
    "    model.add(Dense(neurons, activation = 'linear', kernel_constraint = maxnorm(2)))\n",
    "    model.add(Dropout(0.2))\n",
    "    model.add(Dense(1, activation = 'sigmoid'))\n",
    "    optimizer = SGD(lr = 0.01, momentum = 0.2)\n",
    "    model.compile(loss = 'binary_crossentropy', optimizer = optimizer, metrics = [matthews_correlation])\n",
    "    return model"
   ]
  },
  {
   "cell_type": "code",
   "execution_count": 29,
   "metadata": {},
   "outputs": [
    {
     "name": "stdout",
     "output_type": "stream",
     "text": [
      "WARNING:tensorflow:Please add `keras.layers.InputLayer` instead of `keras.Input` to Sequential model. `keras.Input` is intended to be used by Functional model.\n"
     ]
    }
   ],
   "source": [
    "nnc6_model = KerasClassifier(build_fn = create_model6, batch_size = 50, epochs = 10, verbose = 0)\n",
    "\n",
    "nnc6_neuron_arr = [1, 5, 10, 15, 20, 25, 30]\n",
    "\n",
    "nnc6 = GridSearchCV(estimator = nnc6_model, \n",
    "                    param_grid = {'neurons' : nnc6_neuron_arr}, \n",
    "                    n_jobs = -1, scoring = mcc, cv = 5, return_train_score = True)\n",
    "\n",
    "nnc6.fit(X_train.values.astype('float64'), c_train.values.ravel(), class_weight = {0: 15.34, 1: 84.77})\n",
    "\n",
    "nnc6_df = pd.DataFrame(nnc6.cv_results_)"
   ]
  },
  {
   "cell_type": "code",
   "execution_count": 30,
   "metadata": {},
   "outputs": [
    {
     "data": {
      "text/html": [
       "<div>\n",
       "<style scoped>\n",
       "    .dataframe tbody tr th:only-of-type {\n",
       "        vertical-align: middle;\n",
       "    }\n",
       "\n",
       "    .dataframe tbody tr th {\n",
       "        vertical-align: top;\n",
       "    }\n",
       "\n",
       "    .dataframe thead th {\n",
       "        text-align: right;\n",
       "    }\n",
       "</style>\n",
       "<table border=\"1\" class=\"dataframe\">\n",
       "  <thead>\n",
       "    <tr style=\"text-align: right;\">\n",
       "      <th></th>\n",
       "      <th>param_neurons</th>\n",
       "      <th>mean_train_score</th>\n",
       "      <th>mean_test_score</th>\n",
       "    </tr>\n",
       "  </thead>\n",
       "  <tbody>\n",
       "    <tr>\n",
       "      <th>0</th>\n",
       "      <td>1</td>\n",
       "      <td>0.257163</td>\n",
       "      <td>0.241513</td>\n",
       "    </tr>\n",
       "    <tr>\n",
       "      <th>1</th>\n",
       "      <td>5</td>\n",
       "      <td>0.257065</td>\n",
       "      <td>0.248608</td>\n",
       "    </tr>\n",
       "    <tr>\n",
       "      <th>2</th>\n",
       "      <td>10</td>\n",
       "      <td>0.263906</td>\n",
       "      <td>0.246685</td>\n",
       "    </tr>\n",
       "    <tr>\n",
       "      <th>3</th>\n",
       "      <td>15</td>\n",
       "      <td>0.262105</td>\n",
       "      <td>0.256295</td>\n",
       "    </tr>\n",
       "    <tr>\n",
       "      <th>4</th>\n",
       "      <td>20</td>\n",
       "      <td>0.258843</td>\n",
       "      <td>0.252780</td>\n",
       "    </tr>\n",
       "    <tr>\n",
       "      <th>5</th>\n",
       "      <td>25</td>\n",
       "      <td>0.264989</td>\n",
       "      <td>0.239757</td>\n",
       "    </tr>\n",
       "    <tr>\n",
       "      <th>6</th>\n",
       "      <td>30</td>\n",
       "      <td>0.257528</td>\n",
       "      <td>0.243439</td>\n",
       "    </tr>\n",
       "  </tbody>\n",
       "</table>\n",
       "</div>"
      ],
      "text/plain": [
       "  param_neurons  mean_train_score  mean_test_score\n",
       "0             1          0.257163         0.241513\n",
       "1             5          0.257065         0.248608\n",
       "2            10          0.263906         0.246685\n",
       "3            15          0.262105         0.256295\n",
       "4            20          0.258843         0.252780\n",
       "5            25          0.264989         0.239757\n",
       "6            30          0.257528         0.243439"
      ]
     },
     "execution_count": 30,
     "metadata": {},
     "output_type": "execute_result"
    }
   ],
   "source": [
    "nnc6_df[['param_neurons', 'mean_train_score', 'mean_test_score']]"
   ]
  },
  {
   "cell_type": "code",
   "execution_count": 31,
   "metadata": {},
   "outputs": [
    {
     "name": "stdout",
     "output_type": "stream",
     "text": [
      "Best Parameters: {'neurons': 15}\n",
      "Best Cross-Validation Accuracy: 0.26\n"
     ]
    },
    {
     "data": {
      "image/png": "[encoded data removed]",
      "text/plain": [
       "<Figure size 432x288 with 1 Axes>"
      ]
     },
     "metadata": {
      "needs_background": "light"
     },
     "output_type": "display_data"
    },
    {
     "name": "stdout",
     "output_type": "stream",
     "text": [
      "Accuracy: 0.58\n",
      "Sensitivity: 0.75\n",
      "Specificity: 0.56\n"
     ]
    }
   ],
   "source": [
    "print('Best Parameters: {}'.format(nnc6.best_params_))\n",
    "print('Best Cross-Validation Accuracy: {:.2f}'.format(nnc6.best_score_))\n",
    "\n",
    "pred_nnc6 = nnc6.predict(X_test.values.astype('float64'))\n",
    "\n",
    "# plot_roc_curve(nnc6, X_test, c_test)\n",
    "# plt.title('ROC Curve')\n",
    "# plt.show()\n",
    "\n",
    "cm_nnc6 = confusion_matrix(c_test, pred_nnc6)\n",
    "tn, fp, fn, tp = cm_nnc6.ravel()\n",
    "\n",
    "ax = sns.heatmap(cm_nnc6.T, square = True, annot = True, fmt = 'd', cbar = False, cmap = 'Greens')\n",
    "ax.set(xlabel = 'Actual', ylabel = 'Predicted', title = 'Confusion Matrix')\n",
    "plt.show()\n",
    "\n",
    "print('Accuracy: {:.2f}'.format(accuracy_score(c_test, pred_nnc6)))\n",
    "print('Sensitivity: {:.2f}'.format(tp / (tp + fn)))\n",
    "print('Specificity: {:.2f}'.format(tn / (tn + fp)))"
   ]
  },
  {
   "cell_type": "code",
   "execution_count": 32,
   "metadata": {},
   "outputs": [],
   "source": [
    "# def final_model():\n",
    "#     model = Sequential()\n",
    "#     model.add(Input(shape=(17, )))\n",
    "#     model.add(Dense(neurons = 20, activation = 'linear', kernel_constraint = maxnorm(2)))\n",
    "#     model.add(Dropout(0.2))\n",
    "#     model.add(Dense(1, activation = 'sigmoid'))\n",
    "#     optimizer = SGD(lr = 0.01, momentum = 0.2)\n",
    "#     model.compile(loss = 'binary_crossentropy', optimizer = optimizer, metrics = [matthews_correlation])\n",
    "#     return model\n",
    "# annc_model = KerasClassifier(build_fn = final_model, batch_size = 50, epochs = 10, verbose = 0)\n",
    "# annc_model.fit(X_train.values.astype('float64'), c_train.values.ravel(), class_weight = {0: 15.34, 1: 84.77})"
   ]
  }
 ],
 "metadata": {
  "kernelspec": {
   "display_name": "Python 3",
   "language": "python",
   "name": "python3"
  },
  "language_info": {
   "codemirror_mode": {
    "name": "ipython",
    "version": 3
   },
   "file_extension": ".py",
   "mimetype": "text/x-python",
   "name": "python",
   "nbconvert_exporter": "python",
   "pygments_lexer": "ipython3",
   "version": "3.8.8"
  }
 },
 "nbformat": 4,
 "nbformat_minor": 2
}